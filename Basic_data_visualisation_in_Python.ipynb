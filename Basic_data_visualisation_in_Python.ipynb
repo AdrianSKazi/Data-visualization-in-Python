{
  "nbformat": 4,
  "nbformat_minor": 0,
  "metadata": {
    "kernelspec": {
      "display_name": "Python 3",
      "language": "python",
      "name": "python3"
    },
    "language_info": {
      "codemirror_mode": {
        "name": "ipython",
        "version": 3
      },
      "file_extension": ".py",
      "mimetype": "text/x-python",
      "name": "python",
      "nbconvert_exporter": "python",
      "pygments_lexer": "ipython3",
      "version": "3.5.1"
    },
    "colab": {
      "name": "Basic data visualisation in Python.ipynb",
      "provenance": [],
      "collapsed_sections": []
    }
  },
  "cells": [
    {
      "cell_type": "markdown",
      "metadata": {
        "id": "ROCTs3ZTaX7D",
        "colab_type": "text"
      },
      "source": [
        "# 911 Calls Capstone Project"
      ]
    },
    {
      "cell_type": "markdown",
      "metadata": {
        "id": "QRAMJbGpaX7E",
        "colab_type": "text"
      },
      "source": [
        "Project: 911 call data from [Kaggle](https://www.kaggle.com/mchirico/montcoalert). The data contains the following fields:\n",
        "\n",
        "* lat : String variable, Latitude\n",
        "* lng: String variable, Longitude\n",
        "* desc: String variable, Description of the Emergency Call\n",
        "* zip: String variable, Zipcode\n",
        "* title: String variable, Title\n",
        "* timeStamp: String variable, YYYY-MM-DD HH:MM:SS\n",
        "* twp: String variable, Township\n",
        "* addr: String variable, Address\n",
        "* e: String variable, Dummy variable (always 1)"
      ]
    },
    {
      "cell_type": "markdown",
      "metadata": {
        "id": "KoC_TipyaX7G",
        "colab_type": "text"
      },
      "source": [
        "## Data and Setup"
      ]
    },
    {
      "cell_type": "code",
      "metadata": {
        "id": "VnYrG998aX7H",
        "colab_type": "code",
        "colab": {}
      },
      "source": [
        "import numpy as np\n",
        "import pandas as pd"
      ],
      "execution_count": 34,
      "outputs": []
    },
    {
      "cell_type": "markdown",
      "metadata": {
        "id": "Xg-9wHvFaX7M",
        "colab_type": "text"
      },
      "source": [
        "** Import visualization libraries and set %matplotlib inline."
      ]
    },
    {
      "cell_type": "code",
      "metadata": {
        "id": "UUa-MxCaaX7N",
        "colab_type": "code",
        "colab": {}
      },
      "source": [
        "%matplotlib inline\n"
      ],
      "execution_count": 35,
      "outputs": []
    },
    {
      "cell_type": "markdown",
      "metadata": {
        "id": "SoVYVVw4aX7S",
        "colab_type": "text"
      },
      "source": [
        "** Read in the csv file as a dataframe called df **"
      ]
    },
    {
      "cell_type": "code",
      "metadata": {
        "id": "V52rsmf3aX7S",
        "colab_type": "code",
        "colab": {
          "base_uri": "https://localhost:8080/",
          "height": 289
        },
        "outputId": "562c800b-5abf-4cbb-8aea-e2693689c178"
      },
      "source": [
        "df = pd.DataFrame(pd.read_csv(\"911.csv\"))\n",
        "df.head(5)"
      ],
      "execution_count": 36,
      "outputs": [
        {
          "output_type": "execute_result",
          "data": {
            "text/html": [
              "<div>\n",
              "<style scoped>\n",
              "    .dataframe tbody tr th:only-of-type {\n",
              "        vertical-align: middle;\n",
              "    }\n",
              "\n",
              "    .dataframe tbody tr th {\n",
              "        vertical-align: top;\n",
              "    }\n",
              "\n",
              "    .dataframe thead th {\n",
              "        text-align: right;\n",
              "    }\n",
              "</style>\n",
              "<table border=\"1\" class=\"dataframe\">\n",
              "  <thead>\n",
              "    <tr style=\"text-align: right;\">\n",
              "      <th></th>\n",
              "      <th>lat</th>\n",
              "      <th>lng</th>\n",
              "      <th>desc</th>\n",
              "      <th>zip</th>\n",
              "      <th>title</th>\n",
              "      <th>timeStamp</th>\n",
              "      <th>twp</th>\n",
              "      <th>addr</th>\n",
              "      <th>e</th>\n",
              "    </tr>\n",
              "  </thead>\n",
              "  <tbody>\n",
              "    <tr>\n",
              "      <th>0</th>\n",
              "      <td>40.297876</td>\n",
              "      <td>-75.581294</td>\n",
              "      <td>REINDEER CT &amp; DEAD END;  NEW HANOVER; Station ...</td>\n",
              "      <td>19525.0</td>\n",
              "      <td>EMS: BACK PAINS/INJURY</td>\n",
              "      <td>2015-12-10 17:40:00</td>\n",
              "      <td>NEW HANOVER</td>\n",
              "      <td>REINDEER CT &amp; DEAD END</td>\n",
              "      <td>1</td>\n",
              "    </tr>\n",
              "    <tr>\n",
              "      <th>1</th>\n",
              "      <td>40.258061</td>\n",
              "      <td>-75.264680</td>\n",
              "      <td>BRIAR PATH &amp; WHITEMARSH LN;  HATFIELD TOWNSHIP...</td>\n",
              "      <td>19446.0</td>\n",
              "      <td>EMS: DIABETIC EMERGENCY</td>\n",
              "      <td>2015-12-10 17:40:00</td>\n",
              "      <td>HATFIELD TOWNSHIP</td>\n",
              "      <td>BRIAR PATH &amp; WHITEMARSH LN</td>\n",
              "      <td>1</td>\n",
              "    </tr>\n",
              "    <tr>\n",
              "      <th>2</th>\n",
              "      <td>40.121182</td>\n",
              "      <td>-75.351975</td>\n",
              "      <td>HAWS AVE; NORRISTOWN; 2015-12-10 @ 14:39:21-St...</td>\n",
              "      <td>19401.0</td>\n",
              "      <td>Fire: GAS-ODOR/LEAK</td>\n",
              "      <td>2015-12-10 17:40:00</td>\n",
              "      <td>NORRISTOWN</td>\n",
              "      <td>HAWS AVE</td>\n",
              "      <td>1</td>\n",
              "    </tr>\n",
              "    <tr>\n",
              "      <th>3</th>\n",
              "      <td>40.116153</td>\n",
              "      <td>-75.343513</td>\n",
              "      <td>AIRY ST &amp; SWEDE ST;  NORRISTOWN; Station 308A;...</td>\n",
              "      <td>19401.0</td>\n",
              "      <td>EMS: CARDIAC EMERGENCY</td>\n",
              "      <td>2015-12-10 17:40:01</td>\n",
              "      <td>NORRISTOWN</td>\n",
              "      <td>AIRY ST &amp; SWEDE ST</td>\n",
              "      <td>1</td>\n",
              "    </tr>\n",
              "    <tr>\n",
              "      <th>4</th>\n",
              "      <td>40.251492</td>\n",
              "      <td>-75.603350</td>\n",
              "      <td>CHERRYWOOD CT &amp; DEAD END;  LOWER POTTSGROVE; S...</td>\n",
              "      <td>NaN</td>\n",
              "      <td>EMS: DIZZINESS</td>\n",
              "      <td>2015-12-10 17:40:01</td>\n",
              "      <td>LOWER POTTSGROVE</td>\n",
              "      <td>CHERRYWOOD CT &amp; DEAD END</td>\n",
              "      <td>1</td>\n",
              "    </tr>\n",
              "  </tbody>\n",
              "</table>\n",
              "</div>"
            ],
            "text/plain": [
              "         lat        lng  ...                        addr  e\n",
              "0  40.297876 -75.581294  ...      REINDEER CT & DEAD END  1\n",
              "1  40.258061 -75.264680  ...  BRIAR PATH & WHITEMARSH LN  1\n",
              "2  40.121182 -75.351975  ...                    HAWS AVE  1\n",
              "3  40.116153 -75.343513  ...          AIRY ST & SWEDE ST  1\n",
              "4  40.251492 -75.603350  ...    CHERRYWOOD CT & DEAD END  1\n",
              "\n",
              "[5 rows x 9 columns]"
            ]
          },
          "metadata": {
            "tags": []
          },
          "execution_count": 36
        }
      ]
    },
    {
      "cell_type": "markdown",
      "metadata": {
        "id": "bzgdPNSmaX7W",
        "colab_type": "text"
      },
      "source": [
        "** Check the info() of the df **"
      ]
    },
    {
      "cell_type": "code",
      "metadata": {
        "id": "z7Sq5_NUby0y",
        "colab_type": "code",
        "colab": {
          "base_uri": "https://localhost:8080/",
          "height": 289
        },
        "outputId": "743a972a-400d-410c-d862-65684e71e1fc"
      },
      "source": [
        "df.info()"
      ],
      "execution_count": 37,
      "outputs": [
        {
          "output_type": "stream",
          "text": [
            "<class 'pandas.core.frame.DataFrame'>\n",
            "RangeIndex: 99492 entries, 0 to 99491\n",
            "Data columns (total 9 columns):\n",
            " #   Column     Non-Null Count  Dtype  \n",
            "---  ------     --------------  -----  \n",
            " 0   lat        99492 non-null  float64\n",
            " 1   lng        99492 non-null  float64\n",
            " 2   desc       99492 non-null  object \n",
            " 3   zip        86637 non-null  float64\n",
            " 4   title      99492 non-null  object \n",
            " 5   timeStamp  99492 non-null  object \n",
            " 6   twp        99449 non-null  object \n",
            " 7   addr       98973 non-null  object \n",
            " 8   e          99492 non-null  int64  \n",
            "dtypes: float64(3), int64(1), object(5)\n",
            "memory usage: 6.8+ MB\n"
          ],
          "name": "stdout"
        }
      ]
    },
    {
      "cell_type": "code",
      "metadata": {
        "id": "JYpwk5BIb2I5",
        "colab_type": "code",
        "colab": {
          "base_uri": "https://localhost:8080/",
          "height": 289
        },
        "outputId": "fc9e85da-39a0-4f38-beca-5f4970a0f755"
      },
      "source": [
        "df.head()"
      ],
      "execution_count": 38,
      "outputs": [
        {
          "output_type": "execute_result",
          "data": {
            "text/html": [
              "<div>\n",
              "<style scoped>\n",
              "    .dataframe tbody tr th:only-of-type {\n",
              "        vertical-align: middle;\n",
              "    }\n",
              "\n",
              "    .dataframe tbody tr th {\n",
              "        vertical-align: top;\n",
              "    }\n",
              "\n",
              "    .dataframe thead th {\n",
              "        text-align: right;\n",
              "    }\n",
              "</style>\n",
              "<table border=\"1\" class=\"dataframe\">\n",
              "  <thead>\n",
              "    <tr style=\"text-align: right;\">\n",
              "      <th></th>\n",
              "      <th>lat</th>\n",
              "      <th>lng</th>\n",
              "      <th>desc</th>\n",
              "      <th>zip</th>\n",
              "      <th>title</th>\n",
              "      <th>timeStamp</th>\n",
              "      <th>twp</th>\n",
              "      <th>addr</th>\n",
              "      <th>e</th>\n",
              "    </tr>\n",
              "  </thead>\n",
              "  <tbody>\n",
              "    <tr>\n",
              "      <th>0</th>\n",
              "      <td>40.297876</td>\n",
              "      <td>-75.581294</td>\n",
              "      <td>REINDEER CT &amp; DEAD END;  NEW HANOVER; Station ...</td>\n",
              "      <td>19525.0</td>\n",
              "      <td>EMS: BACK PAINS/INJURY</td>\n",
              "      <td>2015-12-10 17:40:00</td>\n",
              "      <td>NEW HANOVER</td>\n",
              "      <td>REINDEER CT &amp; DEAD END</td>\n",
              "      <td>1</td>\n",
              "    </tr>\n",
              "    <tr>\n",
              "      <th>1</th>\n",
              "      <td>40.258061</td>\n",
              "      <td>-75.264680</td>\n",
              "      <td>BRIAR PATH &amp; WHITEMARSH LN;  HATFIELD TOWNSHIP...</td>\n",
              "      <td>19446.0</td>\n",
              "      <td>EMS: DIABETIC EMERGENCY</td>\n",
              "      <td>2015-12-10 17:40:00</td>\n",
              "      <td>HATFIELD TOWNSHIP</td>\n",
              "      <td>BRIAR PATH &amp; WHITEMARSH LN</td>\n",
              "      <td>1</td>\n",
              "    </tr>\n",
              "    <tr>\n",
              "      <th>2</th>\n",
              "      <td>40.121182</td>\n",
              "      <td>-75.351975</td>\n",
              "      <td>HAWS AVE; NORRISTOWN; 2015-12-10 @ 14:39:21-St...</td>\n",
              "      <td>19401.0</td>\n",
              "      <td>Fire: GAS-ODOR/LEAK</td>\n",
              "      <td>2015-12-10 17:40:00</td>\n",
              "      <td>NORRISTOWN</td>\n",
              "      <td>HAWS AVE</td>\n",
              "      <td>1</td>\n",
              "    </tr>\n",
              "    <tr>\n",
              "      <th>3</th>\n",
              "      <td>40.116153</td>\n",
              "      <td>-75.343513</td>\n",
              "      <td>AIRY ST &amp; SWEDE ST;  NORRISTOWN; Station 308A;...</td>\n",
              "      <td>19401.0</td>\n",
              "      <td>EMS: CARDIAC EMERGENCY</td>\n",
              "      <td>2015-12-10 17:40:01</td>\n",
              "      <td>NORRISTOWN</td>\n",
              "      <td>AIRY ST &amp; SWEDE ST</td>\n",
              "      <td>1</td>\n",
              "    </tr>\n",
              "    <tr>\n",
              "      <th>4</th>\n",
              "      <td>40.251492</td>\n",
              "      <td>-75.603350</td>\n",
              "      <td>CHERRYWOOD CT &amp; DEAD END;  LOWER POTTSGROVE; S...</td>\n",
              "      <td>NaN</td>\n",
              "      <td>EMS: DIZZINESS</td>\n",
              "      <td>2015-12-10 17:40:01</td>\n",
              "      <td>LOWER POTTSGROVE</td>\n",
              "      <td>CHERRYWOOD CT &amp; DEAD END</td>\n",
              "      <td>1</td>\n",
              "    </tr>\n",
              "  </tbody>\n",
              "</table>\n",
              "</div>"
            ],
            "text/plain": [
              "         lat        lng  ...                        addr  e\n",
              "0  40.297876 -75.581294  ...      REINDEER CT & DEAD END  1\n",
              "1  40.258061 -75.264680  ...  BRIAR PATH & WHITEMARSH LN  1\n",
              "2  40.121182 -75.351975  ...                    HAWS AVE  1\n",
              "3  40.116153 -75.343513  ...          AIRY ST & SWEDE ST  1\n",
              "4  40.251492 -75.603350  ...    CHERRYWOOD CT & DEAD END  1\n",
              "\n",
              "[5 rows x 9 columns]"
            ]
          },
          "metadata": {
            "tags": []
          },
          "execution_count": 38
        }
      ]
    },
    {
      "cell_type": "markdown",
      "metadata": {
        "id": "lWi4gafcaX7f",
        "colab_type": "text"
      },
      "source": [
        "## Basic Questions"
      ]
    },
    {
      "cell_type": "markdown",
      "metadata": {
        "id": "ZrLh5Ul9aX7g",
        "colab_type": "text"
      },
      "source": [
        "top 5 zipcodes for 911 calls"
      ]
    },
    {
      "cell_type": "code",
      "metadata": {
        "id": "JHC-UZC0b8n3",
        "colab_type": "code",
        "colab": {
          "base_uri": "https://localhost:8080/",
          "height": 119
        },
        "outputId": "762c246c-c2b9-437f-879b-16a064cba39c"
      },
      "source": [
        "df['zip'].value_counts().head(5)"
      ],
      "execution_count": 39,
      "outputs": [
        {
          "output_type": "execute_result",
          "data": {
            "text/plain": [
              "19401.0    6979\n",
              "19464.0    6643\n",
              "19403.0    4854\n",
              "19446.0    4748\n",
              "19406.0    3174\n",
              "Name: zip, dtype: int64"
            ]
          },
          "metadata": {
            "tags": []
          },
          "execution_count": 39
        }
      ]
    },
    {
      "cell_type": "markdown",
      "metadata": {
        "id": "kBOR74oJaX7l",
        "colab_type": "text"
      },
      "source": [
        "top 5 townships (twp) for 911 calls"
      ]
    },
    {
      "cell_type": "code",
      "metadata": {
        "id": "GDwsQxuNgai7",
        "colab_type": "code",
        "colab": {
          "base_uri": "https://localhost:8080/",
          "height": 119
        },
        "outputId": "7234c73f-73d8-4617-a4e5-e055e0674da2"
      },
      "source": [
        "df['twp'].value_counts().head(5)"
      ],
      "execution_count": 40,
      "outputs": [
        {
          "output_type": "execute_result",
          "data": {
            "text/plain": [
              "LOWER MERION    8443\n",
              "ABINGTON        5977\n",
              "NORRISTOWN      5890\n",
              "UPPER MERION    5227\n",
              "CHELTENHAM      4575\n",
              "Name: twp, dtype: int64"
            ]
          },
          "metadata": {
            "tags": []
          },
          "execution_count": 40
        }
      ]
    },
    {
      "cell_type": "markdown",
      "metadata": {
        "id": "d2NUPQSuaX7p",
        "colab_type": "text"
      },
      "source": [
        "unique title codes"
      ]
    },
    {
      "cell_type": "code",
      "metadata": {
        "id": "BMUqMxVUgnQn",
        "colab_type": "code",
        "colab": {
          "base_uri": "https://localhost:8080/",
          "height": 34
        },
        "outputId": "f6882034-cc36-497f-85b2-32eeedbc8052"
      },
      "source": [
        "df['title'].nunique()"
      ],
      "execution_count": 41,
      "outputs": [
        {
          "output_type": "execute_result",
          "data": {
            "text/plain": [
              "110"
            ]
          },
          "metadata": {
            "tags": []
          },
          "execution_count": 41
        }
      ]
    },
    {
      "cell_type": "markdown",
      "metadata": {
        "id": "mNSA072RaX7t",
        "colab_type": "text"
      },
      "source": [
        "## Creating new features"
      ]
    },
    {
      "cell_type": "code",
      "metadata": {
        "id": "k1fCjdfdhtoj",
        "colab_type": "code",
        "colab": {
          "base_uri": "https://localhost:8080/",
          "height": 1000
        },
        "outputId": "65a47573-ce99-4590-bec0-91dd6ec3b50d"
      },
      "source": [
        "df.head(20)"
      ],
      "execution_count": 42,
      "outputs": [
        {
          "output_type": "execute_result",
          "data": {
            "text/html": [
              "<div>\n",
              "<style scoped>\n",
              "    .dataframe tbody tr th:only-of-type {\n",
              "        vertical-align: middle;\n",
              "    }\n",
              "\n",
              "    .dataframe tbody tr th {\n",
              "        vertical-align: top;\n",
              "    }\n",
              "\n",
              "    .dataframe thead th {\n",
              "        text-align: right;\n",
              "    }\n",
              "</style>\n",
              "<table border=\"1\" class=\"dataframe\">\n",
              "  <thead>\n",
              "    <tr style=\"text-align: right;\">\n",
              "      <th></th>\n",
              "      <th>lat</th>\n",
              "      <th>lng</th>\n",
              "      <th>desc</th>\n",
              "      <th>zip</th>\n",
              "      <th>title</th>\n",
              "      <th>timeStamp</th>\n",
              "      <th>twp</th>\n",
              "      <th>addr</th>\n",
              "      <th>e</th>\n",
              "    </tr>\n",
              "  </thead>\n",
              "  <tbody>\n",
              "    <tr>\n",
              "      <th>0</th>\n",
              "      <td>40.297876</td>\n",
              "      <td>-75.581294</td>\n",
              "      <td>REINDEER CT &amp; DEAD END;  NEW HANOVER; Station ...</td>\n",
              "      <td>19525.0</td>\n",
              "      <td>EMS: BACK PAINS/INJURY</td>\n",
              "      <td>2015-12-10 17:40:00</td>\n",
              "      <td>NEW HANOVER</td>\n",
              "      <td>REINDEER CT &amp; DEAD END</td>\n",
              "      <td>1</td>\n",
              "    </tr>\n",
              "    <tr>\n",
              "      <th>1</th>\n",
              "      <td>40.258061</td>\n",
              "      <td>-75.264680</td>\n",
              "      <td>BRIAR PATH &amp; WHITEMARSH LN;  HATFIELD TOWNSHIP...</td>\n",
              "      <td>19446.0</td>\n",
              "      <td>EMS: DIABETIC EMERGENCY</td>\n",
              "      <td>2015-12-10 17:40:00</td>\n",
              "      <td>HATFIELD TOWNSHIP</td>\n",
              "      <td>BRIAR PATH &amp; WHITEMARSH LN</td>\n",
              "      <td>1</td>\n",
              "    </tr>\n",
              "    <tr>\n",
              "      <th>2</th>\n",
              "      <td>40.121182</td>\n",
              "      <td>-75.351975</td>\n",
              "      <td>HAWS AVE; NORRISTOWN; 2015-12-10 @ 14:39:21-St...</td>\n",
              "      <td>19401.0</td>\n",
              "      <td>Fire: GAS-ODOR/LEAK</td>\n",
              "      <td>2015-12-10 17:40:00</td>\n",
              "      <td>NORRISTOWN</td>\n",
              "      <td>HAWS AVE</td>\n",
              "      <td>1</td>\n",
              "    </tr>\n",
              "    <tr>\n",
              "      <th>3</th>\n",
              "      <td>40.116153</td>\n",
              "      <td>-75.343513</td>\n",
              "      <td>AIRY ST &amp; SWEDE ST;  NORRISTOWN; Station 308A;...</td>\n",
              "      <td>19401.0</td>\n",
              "      <td>EMS: CARDIAC EMERGENCY</td>\n",
              "      <td>2015-12-10 17:40:01</td>\n",
              "      <td>NORRISTOWN</td>\n",
              "      <td>AIRY ST &amp; SWEDE ST</td>\n",
              "      <td>1</td>\n",
              "    </tr>\n",
              "    <tr>\n",
              "      <th>4</th>\n",
              "      <td>40.251492</td>\n",
              "      <td>-75.603350</td>\n",
              "      <td>CHERRYWOOD CT &amp; DEAD END;  LOWER POTTSGROVE; S...</td>\n",
              "      <td>NaN</td>\n",
              "      <td>EMS: DIZZINESS</td>\n",
              "      <td>2015-12-10 17:40:01</td>\n",
              "      <td>LOWER POTTSGROVE</td>\n",
              "      <td>CHERRYWOOD CT &amp; DEAD END</td>\n",
              "      <td>1</td>\n",
              "    </tr>\n",
              "    <tr>\n",
              "      <th>5</th>\n",
              "      <td>40.253473</td>\n",
              "      <td>-75.283245</td>\n",
              "      <td>CANNON AVE &amp; W 9TH ST;  LANSDALE; Station 345;...</td>\n",
              "      <td>19446.0</td>\n",
              "      <td>EMS: HEAD INJURY</td>\n",
              "      <td>2015-12-10 17:40:01</td>\n",
              "      <td>LANSDALE</td>\n",
              "      <td>CANNON AVE &amp; W 9TH ST</td>\n",
              "      <td>1</td>\n",
              "    </tr>\n",
              "    <tr>\n",
              "      <th>6</th>\n",
              "      <td>40.182111</td>\n",
              "      <td>-75.127795</td>\n",
              "      <td>LAUREL AVE &amp; OAKDALE AVE;  HORSHAM; Station 35...</td>\n",
              "      <td>19044.0</td>\n",
              "      <td>EMS: NAUSEA/VOMITING</td>\n",
              "      <td>2015-12-10 17:40:01</td>\n",
              "      <td>HORSHAM</td>\n",
              "      <td>LAUREL AVE &amp; OAKDALE AVE</td>\n",
              "      <td>1</td>\n",
              "    </tr>\n",
              "    <tr>\n",
              "      <th>7</th>\n",
              "      <td>40.217286</td>\n",
              "      <td>-75.405182</td>\n",
              "      <td>COLLEGEVILLE RD &amp; LYWISKI RD;  SKIPPACK; Stati...</td>\n",
              "      <td>19426.0</td>\n",
              "      <td>EMS: RESPIRATORY EMERGENCY</td>\n",
              "      <td>2015-12-10 17:40:01</td>\n",
              "      <td>SKIPPACK</td>\n",
              "      <td>COLLEGEVILLE RD &amp; LYWISKI RD</td>\n",
              "      <td>1</td>\n",
              "    </tr>\n",
              "    <tr>\n",
              "      <th>8</th>\n",
              "      <td>40.289027</td>\n",
              "      <td>-75.399590</td>\n",
              "      <td>MAIN ST &amp; OLD SUMNEYTOWN PIKE;  LOWER SALFORD;...</td>\n",
              "      <td>19438.0</td>\n",
              "      <td>EMS: SYNCOPAL EPISODE</td>\n",
              "      <td>2015-12-10 17:40:01</td>\n",
              "      <td>LOWER SALFORD</td>\n",
              "      <td>MAIN ST &amp; OLD SUMNEYTOWN PIKE</td>\n",
              "      <td>1</td>\n",
              "    </tr>\n",
              "    <tr>\n",
              "      <th>9</th>\n",
              "      <td>40.102398</td>\n",
              "      <td>-75.291458</td>\n",
              "      <td>BLUEROUTE  &amp; RAMP I476 NB TO CHEMICAL RD; PLYM...</td>\n",
              "      <td>19462.0</td>\n",
              "      <td>Traffic: VEHICLE ACCIDENT -</td>\n",
              "      <td>2015-12-10 17:40:01</td>\n",
              "      <td>PLYMOUTH</td>\n",
              "      <td>BLUEROUTE  &amp; RAMP I476 NB TO CHEMICAL RD</td>\n",
              "      <td>1</td>\n",
              "    </tr>\n",
              "    <tr>\n",
              "      <th>10</th>\n",
              "      <td>40.231990</td>\n",
              "      <td>-75.251891</td>\n",
              "      <td>RT202 PKWY &amp; KNAPP RD; MONTGOMERY; 2015-12-10 ...</td>\n",
              "      <td>NaN</td>\n",
              "      <td>Traffic: VEHICLE ACCIDENT -</td>\n",
              "      <td>2015-12-10 17:40:01</td>\n",
              "      <td>MONTGOMERY</td>\n",
              "      <td>RT202 PKWY &amp; KNAPP RD</td>\n",
              "      <td>1</td>\n",
              "    </tr>\n",
              "    <tr>\n",
              "      <th>11</th>\n",
              "      <td>40.084161</td>\n",
              "      <td>-75.308386</td>\n",
              "      <td>BROOK RD &amp; COLWELL LN; PLYMOUTH; 2015-12-10 @ ...</td>\n",
              "      <td>19428.0</td>\n",
              "      <td>Traffic: VEHICLE ACCIDENT -</td>\n",
              "      <td>2015-12-10 17:40:02</td>\n",
              "      <td>PLYMOUTH</td>\n",
              "      <td>BROOK RD &amp; COLWELL LN</td>\n",
              "      <td>1</td>\n",
              "    </tr>\n",
              "    <tr>\n",
              "      <th>12</th>\n",
              "      <td>40.174131</td>\n",
              "      <td>-75.098491</td>\n",
              "      <td>BYBERRY AVE &amp; S WARMINSTER RD; UPPER MORELAND;...</td>\n",
              "      <td>19040.0</td>\n",
              "      <td>Traffic: VEHICLE ACCIDENT -</td>\n",
              "      <td>2015-12-10 17:40:02</td>\n",
              "      <td>UPPER MORELAND</td>\n",
              "      <td>BYBERRY AVE &amp; S WARMINSTER RD</td>\n",
              "      <td>1</td>\n",
              "    </tr>\n",
              "    <tr>\n",
              "      <th>13</th>\n",
              "      <td>40.062974</td>\n",
              "      <td>-75.135914</td>\n",
              "      <td>OLD YORK RD &amp; VALLEY RD; CHELTENHAM; 2015-12-1...</td>\n",
              "      <td>19027.0</td>\n",
              "      <td>Traffic: VEHICLE ACCIDENT -</td>\n",
              "      <td>2015-12-10 17:40:02</td>\n",
              "      <td>CHELTENHAM</td>\n",
              "      <td>OLD YORK RD &amp; VALLEY RD</td>\n",
              "      <td>1</td>\n",
              "    </tr>\n",
              "    <tr>\n",
              "      <th>14</th>\n",
              "      <td>40.097222</td>\n",
              "      <td>-75.376195</td>\n",
              "      <td>SCHUYLKILL EXPY &amp; CROTON RD UNDERPASS; UPPER M...</td>\n",
              "      <td>NaN</td>\n",
              "      <td>Traffic: VEHICLE ACCIDENT -</td>\n",
              "      <td>2015-12-10 17:40:02</td>\n",
              "      <td>UPPER MERION</td>\n",
              "      <td>SCHUYLKILL EXPY &amp; CROTON RD UNDERPASS</td>\n",
              "      <td>1</td>\n",
              "    </tr>\n",
              "    <tr>\n",
              "      <th>15</th>\n",
              "      <td>40.223778</td>\n",
              "      <td>-75.235399</td>\n",
              "      <td>STUMP RD &amp; WITCHWOOD DR; MONTGOMERY; 2015-12-1...</td>\n",
              "      <td>18936.0</td>\n",
              "      <td>Traffic: VEHICLE ACCIDENT -</td>\n",
              "      <td>2015-12-10 17:40:02</td>\n",
              "      <td>MONTGOMERY</td>\n",
              "      <td>STUMP RD &amp; WITCHWOOD DR</td>\n",
              "      <td>1</td>\n",
              "    </tr>\n",
              "    <tr>\n",
              "      <th>16</th>\n",
              "      <td>40.243258</td>\n",
              "      <td>-75.286552</td>\n",
              "      <td>SUSQUEHANNA AVE &amp; W MAIN ST;  LANSDALE; Statio...</td>\n",
              "      <td>19446.0</td>\n",
              "      <td>EMS: RESPIRATORY EMERGENCY</td>\n",
              "      <td>2015-12-10 17:46:01</td>\n",
              "      <td>LANSDALE</td>\n",
              "      <td>SUSQUEHANNA AVE &amp; W MAIN ST</td>\n",
              "      <td>1</td>\n",
              "    </tr>\n",
              "    <tr>\n",
              "      <th>17</th>\n",
              "      <td>40.312181</td>\n",
              "      <td>-75.574260</td>\n",
              "      <td>CHARLOTTE ST &amp; MILES RD;  NEW HANOVER; Station...</td>\n",
              "      <td>19525.0</td>\n",
              "      <td>EMS: DIZZINESS</td>\n",
              "      <td>2015-12-10 17:47:01</td>\n",
              "      <td>NEW HANOVER</td>\n",
              "      <td>CHARLOTTE ST &amp; MILES RD</td>\n",
              "      <td>1</td>\n",
              "    </tr>\n",
              "    <tr>\n",
              "      <th>18</th>\n",
              "      <td>40.114239</td>\n",
              "      <td>-75.338508</td>\n",
              "      <td>PENN ST &amp; ARCH ST;  NORRISTOWN; Station 308A; ...</td>\n",
              "      <td>19401.0</td>\n",
              "      <td>EMS: VEHICLE ACCIDENT</td>\n",
              "      <td>2015-12-10 17:47:01</td>\n",
              "      <td>NORRISTOWN</td>\n",
              "      <td>PENN ST &amp; ARCH ST</td>\n",
              "      <td>1</td>\n",
              "    </tr>\n",
              "    <tr>\n",
              "      <th>19</th>\n",
              "      <td>40.209337</td>\n",
              "      <td>-75.135266</td>\n",
              "      <td>COUNTY LINE RD &amp; WILLOW DR; HORSHAM; 2015-12-1...</td>\n",
              "      <td>18974.0</td>\n",
              "      <td>Traffic: DISABLED VEHICLE -</td>\n",
              "      <td>2015-12-10 17:47:02</td>\n",
              "      <td>HORSHAM</td>\n",
              "      <td>COUNTY LINE RD &amp; WILLOW DR</td>\n",
              "      <td>1</td>\n",
              "    </tr>\n",
              "  </tbody>\n",
              "</table>\n",
              "</div>"
            ],
            "text/plain": [
              "          lat        lng  ...                                      addr  e\n",
              "0   40.297876 -75.581294  ...                    REINDEER CT & DEAD END  1\n",
              "1   40.258061 -75.264680  ...                BRIAR PATH & WHITEMARSH LN  1\n",
              "2   40.121182 -75.351975  ...                                  HAWS AVE  1\n",
              "3   40.116153 -75.343513  ...                        AIRY ST & SWEDE ST  1\n",
              "4   40.251492 -75.603350  ...                  CHERRYWOOD CT & DEAD END  1\n",
              "5   40.253473 -75.283245  ...                     CANNON AVE & W 9TH ST  1\n",
              "6   40.182111 -75.127795  ...                  LAUREL AVE & OAKDALE AVE  1\n",
              "7   40.217286 -75.405182  ...              COLLEGEVILLE RD & LYWISKI RD  1\n",
              "8   40.289027 -75.399590  ...             MAIN ST & OLD SUMNEYTOWN PIKE  1\n",
              "9   40.102398 -75.291458  ...  BLUEROUTE  & RAMP I476 NB TO CHEMICAL RD  1\n",
              "10  40.231990 -75.251891  ...                     RT202 PKWY & KNAPP RD  1\n",
              "11  40.084161 -75.308386  ...                     BROOK RD & COLWELL LN  1\n",
              "12  40.174131 -75.098491  ...             BYBERRY AVE & S WARMINSTER RD  1\n",
              "13  40.062974 -75.135914  ...                   OLD YORK RD & VALLEY RD  1\n",
              "14  40.097222 -75.376195  ...     SCHUYLKILL EXPY & CROTON RD UNDERPASS  1\n",
              "15  40.223778 -75.235399  ...                   STUMP RD & WITCHWOOD DR  1\n",
              "16  40.243258 -75.286552  ...               SUSQUEHANNA AVE & W MAIN ST  1\n",
              "17  40.312181 -75.574260  ...                   CHARLOTTE ST & MILES RD  1\n",
              "18  40.114239 -75.338508  ...                         PENN ST & ARCH ST  1\n",
              "19  40.209337 -75.135266  ...                COUNTY LINE RD & WILLOW DR  1\n",
              "\n",
              "[20 rows x 9 columns]"
            ]
          },
          "metadata": {
            "tags": []
          },
          "execution_count": 42
        }
      ]
    },
    {
      "cell_type": "markdown",
      "metadata": {
        "id": "gpPJJKftaX7t",
        "colab_type": "text"
      },
      "source": [
        "setting up Reason column, created by applying function on title column"
      ]
    },
    {
      "cell_type": "code",
      "metadata": {
        "id": "6qo34ivzaX7u",
        "colab_type": "code",
        "colab": {
          "base_uri": "https://localhost:8080/",
          "height": 589
        },
        "outputId": "ea555eab-27e9-42f4-ed8f-1d2ae7b1e903"
      },
      "source": [
        "df['Reason'] = df['title'].apply(lambda a:a.split(':')[0])\n",
        "df"
      ],
      "execution_count": 43,
      "outputs": [
        {
          "output_type": "execute_result",
          "data": {
            "text/html": [
              "<div>\n",
              "<style scoped>\n",
              "    .dataframe tbody tr th:only-of-type {\n",
              "        vertical-align: middle;\n",
              "    }\n",
              "\n",
              "    .dataframe tbody tr th {\n",
              "        vertical-align: top;\n",
              "    }\n",
              "\n",
              "    .dataframe thead th {\n",
              "        text-align: right;\n",
              "    }\n",
              "</style>\n",
              "<table border=\"1\" class=\"dataframe\">\n",
              "  <thead>\n",
              "    <tr style=\"text-align: right;\">\n",
              "      <th></th>\n",
              "      <th>lat</th>\n",
              "      <th>lng</th>\n",
              "      <th>desc</th>\n",
              "      <th>zip</th>\n",
              "      <th>title</th>\n",
              "      <th>timeStamp</th>\n",
              "      <th>twp</th>\n",
              "      <th>addr</th>\n",
              "      <th>e</th>\n",
              "      <th>Reason</th>\n",
              "    </tr>\n",
              "  </thead>\n",
              "  <tbody>\n",
              "    <tr>\n",
              "      <th>0</th>\n",
              "      <td>40.297876</td>\n",
              "      <td>-75.581294</td>\n",
              "      <td>REINDEER CT &amp; DEAD END;  NEW HANOVER; Station ...</td>\n",
              "      <td>19525.0</td>\n",
              "      <td>EMS: BACK PAINS/INJURY</td>\n",
              "      <td>2015-12-10 17:40:00</td>\n",
              "      <td>NEW HANOVER</td>\n",
              "      <td>REINDEER CT &amp; DEAD END</td>\n",
              "      <td>1</td>\n",
              "      <td>EMS</td>\n",
              "    </tr>\n",
              "    <tr>\n",
              "      <th>1</th>\n",
              "      <td>40.258061</td>\n",
              "      <td>-75.264680</td>\n",
              "      <td>BRIAR PATH &amp; WHITEMARSH LN;  HATFIELD TOWNSHIP...</td>\n",
              "      <td>19446.0</td>\n",
              "      <td>EMS: DIABETIC EMERGENCY</td>\n",
              "      <td>2015-12-10 17:40:00</td>\n",
              "      <td>HATFIELD TOWNSHIP</td>\n",
              "      <td>BRIAR PATH &amp; WHITEMARSH LN</td>\n",
              "      <td>1</td>\n",
              "      <td>EMS</td>\n",
              "    </tr>\n",
              "    <tr>\n",
              "      <th>2</th>\n",
              "      <td>40.121182</td>\n",
              "      <td>-75.351975</td>\n",
              "      <td>HAWS AVE; NORRISTOWN; 2015-12-10 @ 14:39:21-St...</td>\n",
              "      <td>19401.0</td>\n",
              "      <td>Fire: GAS-ODOR/LEAK</td>\n",
              "      <td>2015-12-10 17:40:00</td>\n",
              "      <td>NORRISTOWN</td>\n",
              "      <td>HAWS AVE</td>\n",
              "      <td>1</td>\n",
              "      <td>Fire</td>\n",
              "    </tr>\n",
              "    <tr>\n",
              "      <th>3</th>\n",
              "      <td>40.116153</td>\n",
              "      <td>-75.343513</td>\n",
              "      <td>AIRY ST &amp; SWEDE ST;  NORRISTOWN; Station 308A;...</td>\n",
              "      <td>19401.0</td>\n",
              "      <td>EMS: CARDIAC EMERGENCY</td>\n",
              "      <td>2015-12-10 17:40:01</td>\n",
              "      <td>NORRISTOWN</td>\n",
              "      <td>AIRY ST &amp; SWEDE ST</td>\n",
              "      <td>1</td>\n",
              "      <td>EMS</td>\n",
              "    </tr>\n",
              "    <tr>\n",
              "      <th>4</th>\n",
              "      <td>40.251492</td>\n",
              "      <td>-75.603350</td>\n",
              "      <td>CHERRYWOOD CT &amp; DEAD END;  LOWER POTTSGROVE; S...</td>\n",
              "      <td>NaN</td>\n",
              "      <td>EMS: DIZZINESS</td>\n",
              "      <td>2015-12-10 17:40:01</td>\n",
              "      <td>LOWER POTTSGROVE</td>\n",
              "      <td>CHERRYWOOD CT &amp; DEAD END</td>\n",
              "      <td>1</td>\n",
              "      <td>EMS</td>\n",
              "    </tr>\n",
              "    <tr>\n",
              "      <th>...</th>\n",
              "      <td>...</td>\n",
              "      <td>...</td>\n",
              "      <td>...</td>\n",
              "      <td>...</td>\n",
              "      <td>...</td>\n",
              "      <td>...</td>\n",
              "      <td>...</td>\n",
              "      <td>...</td>\n",
              "      <td>...</td>\n",
              "      <td>...</td>\n",
              "    </tr>\n",
              "    <tr>\n",
              "      <th>99487</th>\n",
              "      <td>40.132869</td>\n",
              "      <td>-75.333515</td>\n",
              "      <td>MARKLEY ST &amp; W LOGAN ST; NORRISTOWN; 2016-08-2...</td>\n",
              "      <td>19401.0</td>\n",
              "      <td>Traffic: VEHICLE ACCIDENT -</td>\n",
              "      <td>2016-08-24 11:06:00</td>\n",
              "      <td>NORRISTOWN</td>\n",
              "      <td>MARKLEY ST &amp; W LOGAN ST</td>\n",
              "      <td>1</td>\n",
              "      <td>Traffic</td>\n",
              "    </tr>\n",
              "    <tr>\n",
              "      <th>99488</th>\n",
              "      <td>40.006974</td>\n",
              "      <td>-75.289080</td>\n",
              "      <td>LANCASTER AVE &amp; RITTENHOUSE PL; LOWER MERION; ...</td>\n",
              "      <td>19003.0</td>\n",
              "      <td>Traffic: VEHICLE ACCIDENT -</td>\n",
              "      <td>2016-08-24 11:07:02</td>\n",
              "      <td>LOWER MERION</td>\n",
              "      <td>LANCASTER AVE &amp; RITTENHOUSE PL</td>\n",
              "      <td>1</td>\n",
              "      <td>Traffic</td>\n",
              "    </tr>\n",
              "    <tr>\n",
              "      <th>99489</th>\n",
              "      <td>40.115429</td>\n",
              "      <td>-75.334679</td>\n",
              "      <td>CHESTNUT ST &amp; WALNUT ST;  NORRISTOWN; Station ...</td>\n",
              "      <td>19401.0</td>\n",
              "      <td>EMS: FALL VICTIM</td>\n",
              "      <td>2016-08-24 11:12:00</td>\n",
              "      <td>NORRISTOWN</td>\n",
              "      <td>CHESTNUT ST &amp; WALNUT ST</td>\n",
              "      <td>1</td>\n",
              "      <td>EMS</td>\n",
              "    </tr>\n",
              "    <tr>\n",
              "      <th>99490</th>\n",
              "      <td>40.186431</td>\n",
              "      <td>-75.192555</td>\n",
              "      <td>WELSH RD &amp; WEBSTER LN;  HORSHAM; Station 352; ...</td>\n",
              "      <td>19002.0</td>\n",
              "      <td>EMS: NAUSEA/VOMITING</td>\n",
              "      <td>2016-08-24 11:17:01</td>\n",
              "      <td>HORSHAM</td>\n",
              "      <td>WELSH RD &amp; WEBSTER LN</td>\n",
              "      <td>1</td>\n",
              "      <td>EMS</td>\n",
              "    </tr>\n",
              "    <tr>\n",
              "      <th>99491</th>\n",
              "      <td>40.207055</td>\n",
              "      <td>-75.317952</td>\n",
              "      <td>MORRIS RD &amp; S BROAD ST; UPPER GWYNEDD; 2016-08...</td>\n",
              "      <td>19446.0</td>\n",
              "      <td>Traffic: VEHICLE ACCIDENT -</td>\n",
              "      <td>2016-08-24 11:17:02</td>\n",
              "      <td>UPPER GWYNEDD</td>\n",
              "      <td>MORRIS RD &amp; S BROAD ST</td>\n",
              "      <td>1</td>\n",
              "      <td>Traffic</td>\n",
              "    </tr>\n",
              "  </tbody>\n",
              "</table>\n",
              "<p>99492 rows × 10 columns</p>\n",
              "</div>"
            ],
            "text/plain": [
              "             lat        lng  ...  e   Reason\n",
              "0      40.297876 -75.581294  ...  1      EMS\n",
              "1      40.258061 -75.264680  ...  1      EMS\n",
              "2      40.121182 -75.351975  ...  1     Fire\n",
              "3      40.116153 -75.343513  ...  1      EMS\n",
              "4      40.251492 -75.603350  ...  1      EMS\n",
              "...          ...        ...  ... ..      ...\n",
              "99487  40.132869 -75.333515  ...  1  Traffic\n",
              "99488  40.006974 -75.289080  ...  1  Traffic\n",
              "99489  40.115429 -75.334679  ...  1      EMS\n",
              "99490  40.186431 -75.192555  ...  1      EMS\n",
              "99491  40.207055 -75.317952  ...  1  Traffic\n",
              "\n",
              "[99492 rows x 10 columns]"
            ]
          },
          "metadata": {
            "tags": []
          },
          "execution_count": 43
        }
      ]
    },
    {
      "cell_type": "markdown",
      "metadata": {
        "id": "7tVDhcddaX7z",
        "colab_type": "text"
      },
      "source": [
        "most common Reason for a 911 call based of Reason column"
      ]
    },
    {
      "cell_type": "code",
      "metadata": {
        "id": "mb3PJCHdsbYo",
        "colab_type": "code",
        "colab": {
          "base_uri": "https://localhost:8080/",
          "height": 85
        },
        "outputId": "e34739af-cd36-4247-cdd7-ae9251deb2f8"
      },
      "source": [
        "df['Reason'].value_counts()"
      ],
      "execution_count": 44,
      "outputs": [
        {
          "output_type": "execute_result",
          "data": {
            "text/plain": [
              "EMS        48877\n",
              "Traffic    35695\n",
              "Fire       14920\n",
              "Name: Reason, dtype: int64"
            ]
          },
          "metadata": {
            "tags": []
          },
          "execution_count": 44
        }
      ]
    },
    {
      "cell_type": "markdown",
      "metadata": {
        "id": "iAY_CVTnaX76",
        "colab_type": "text"
      },
      "source": [
        "countplot of 911 calls by Reason"
      ]
    },
    {
      "cell_type": "code",
      "metadata": {
        "id": "Ezfj2i0utl85",
        "colab_type": "code",
        "colab": {
          "base_uri": "https://localhost:8080/",
          "height": 296
        },
        "outputId": "bcd451ec-f4f6-4108-f9bb-dd71aa0dad20"
      },
      "source": [
        "import seaborn as sns\n",
        "\n",
        "sns.countplot(x='Reason',data=df)"
      ],
      "execution_count": 45,
      "outputs": [
        {
          "output_type": "execute_result",
          "data": {
            "text/plain": [
              "<matplotlib.axes._subplots.AxesSubplot at 0x7f0c4dadf898>"
            ]
          },
          "metadata": {
            "tags": []
          },
          "execution_count": 45
        },
        {
          "output_type": "display_data",
          "data": {
            "image/png": "[encoded data removed]",
            "text/plain": [
              "<Figure size 432x288 with 1 Axes>"
            ]
          },
          "metadata": {
            "tags": [],
            "needs_background": "light"
          }
        }
      ]
    },
    {
      "cell_type": "markdown",
      "metadata": {
        "id": "S-PadO5nZWf5",
        "colab_type": "text"
      },
      "source": [
        "type of data in timeStamp column"
      ]
    },
    {
      "cell_type": "code",
      "metadata": {
        "id": "VLLgZDQb0KbE",
        "colab_type": "code",
        "colab": {
          "base_uri": "https://localhost:8080/",
          "height": 221
        },
        "outputId": "b176c0d6-8859-4f3d-bac5-bff6e92ed5ba"
      },
      "source": [
        "df['timeStamp'].apply(lambda a: type(a))"
      ],
      "execution_count": 46,
      "outputs": [
        {
          "output_type": "execute_result",
          "data": {
            "text/plain": [
              "0        <class 'str'>\n",
              "1        <class 'str'>\n",
              "2        <class 'str'>\n",
              "3        <class 'str'>\n",
              "4        <class 'str'>\n",
              "             ...      \n",
              "99487    <class 'str'>\n",
              "99488    <class 'str'>\n",
              "99489    <class 'str'>\n",
              "99490    <class 'str'>\n",
              "99491    <class 'str'>\n",
              "Name: timeStamp, Length: 99492, dtype: object"
            ]
          },
          "metadata": {
            "tags": []
          },
          "execution_count": 46
        }
      ]
    },
    {
      "cell_type": "markdown",
      "metadata": {
        "id": "LG0-JarYZbjd",
        "colab_type": "text"
      },
      "source": [
        "changing datatype into datatime"
      ]
    },
    {
      "cell_type": "code",
      "metadata": {
        "id": "GH-McSHkaX8E",
        "colab_type": "code",
        "colab": {}
      },
      "source": [
        "df['timeStamp'] = pd.to_datetime(df['timeStamp'])"
      ],
      "execution_count": 47,
      "outputs": []
    },
    {
      "cell_type": "markdown",
      "metadata": {
        "id": "W1cGMqldZjFV",
        "colab_type": "text"
      },
      "source": [
        "evoking hour for specific cell"
      ]
    },
    {
      "cell_type": "code",
      "metadata": {
        "id": "WUr__X2Xrqtb",
        "colab_type": "code",
        "colab": {
          "base_uri": "https://localhost:8080/",
          "height": 34
        },
        "outputId": "656c1320-31c5-418f-e26d-b045f43538b7"
      },
      "source": [
        "time = df['timeStamp'].iloc[24]\n",
        "time.hour"
      ],
      "execution_count": 48,
      "outputs": [
        {
          "output_type": "execute_result",
          "data": {
            "text/plain": [
              "18"
            ]
          },
          "metadata": {
            "tags": []
          },
          "execution_count": 48
        }
      ]
    },
    {
      "cell_type": "markdown",
      "metadata": {
        "id": "T9E5i3f1ZuTX",
        "colab_type": "text"
      },
      "source": [
        "creating new columns Hour, DayOfWwek, Month basing on timeStamp column"
      ]
    },
    {
      "cell_type": "code",
      "metadata": {
        "id": "8F2fH0JdaX8I",
        "colab_type": "code",
        "colab": {
          "base_uri": "https://localhost:8080/",
          "height": 589
        },
        "outputId": "27065c3b-6f4a-448a-eaae-04d7008aee59"
      },
      "source": [
        "df['Hour'] = df['timeStamp'].apply(lambda time : time.hour)\n",
        "df['DayOfWwek'] = df['timeStamp'].apply(lambda time : time.dayofweek)\n",
        "df['Month'] = df['timeStamp'].apply(lambda time : time.month)\n",
        "df"
      ],
      "execution_count": 49,
      "outputs": [
        {
          "output_type": "execute_result",
          "data": {
            "text/html": [
              "<div>\n",
              "<style scoped>\n",
              "    .dataframe tbody tr th:only-of-type {\n",
              "        vertical-align: middle;\n",
              "    }\n",
              "\n",
              "    .dataframe tbody tr th {\n",
              "        vertical-align: top;\n",
              "    }\n",
              "\n",
              "    .dataframe thead th {\n",
              "        text-align: right;\n",
              "    }\n",
              "</style>\n",
              "<table border=\"1\" class=\"dataframe\">\n",
              "  <thead>\n",
              "    <tr style=\"text-align: right;\">\n",
              "      <th></th>\n",
              "      <th>lat</th>\n",
              "      <th>lng</th>\n",
              "      <th>desc</th>\n",
              "      <th>zip</th>\n",
              "      <th>title</th>\n",
              "      <th>timeStamp</th>\n",
              "      <th>twp</th>\n",
              "      <th>addr</th>\n",
              "      <th>e</th>\n",
              "      <th>Reason</th>\n",
              "      <th>Hour</th>\n",
              "      <th>DayOfWwek</th>\n",
              "      <th>Month</th>\n",
              "    </tr>\n",
              "  </thead>\n",
              "  <tbody>\n",
              "    <tr>\n",
              "      <th>0</th>\n",
              "      <td>40.297876</td>\n",
              "      <td>-75.581294</td>\n",
              "      <td>REINDEER CT &amp; DEAD END;  NEW HANOVER; Station ...</td>\n",
              "      <td>19525.0</td>\n",
              "      <td>EMS: BACK PAINS/INJURY</td>\n",
              "      <td>2015-12-10 17:40:00</td>\n",
              "      <td>NEW HANOVER</td>\n",
              "      <td>REINDEER CT &amp; DEAD END</td>\n",
              "      <td>1</td>\n",
              "      <td>EMS</td>\n",
              "      <td>17</td>\n",
              "      <td>3</td>\n",
              "      <td>12</td>\n",
              "    </tr>\n",
              "    <tr>\n",
              "      <th>1</th>\n",
              "      <td>40.258061</td>\n",
              "      <td>-75.264680</td>\n",
              "      <td>BRIAR PATH &amp; WHITEMARSH LN;  HATFIELD TOWNSHIP...</td>\n",
              "      <td>19446.0</td>\n",
              "      <td>EMS: DIABETIC EMERGENCY</td>\n",
              "      <td>2015-12-10 17:40:00</td>\n",
              "      <td>HATFIELD TOWNSHIP</td>\n",
              "      <td>BRIAR PATH &amp; WHITEMARSH LN</td>\n",
              "      <td>1</td>\n",
              "      <td>EMS</td>\n",
              "      <td>17</td>\n",
              "      <td>3</td>\n",
              "      <td>12</td>\n",
              "    </tr>\n",
              "    <tr>\n",
              "      <th>2</th>\n",
              "      <td>40.121182</td>\n",
              "      <td>-75.351975</td>\n",
              "      <td>HAWS AVE; NORRISTOWN; 2015-12-10 @ 14:39:21-St...</td>\n",
              "      <td>19401.0</td>\n",
              "      <td>Fire: GAS-ODOR/LEAK</td>\n",
              "      <td>2015-12-10 17:40:00</td>\n",
              "      <td>NORRISTOWN</td>\n",
              "      <td>HAWS AVE</td>\n",
              "      <td>1</td>\n",
              "      <td>Fire</td>\n",
              "      <td>17</td>\n",
              "      <td>3</td>\n",
              "      <td>12</td>\n",
              "    </tr>\n",
              "    <tr>\n",
              "      <th>3</th>\n",
              "      <td>40.116153</td>\n",
              "      <td>-75.343513</td>\n",
              "      <td>AIRY ST &amp; SWEDE ST;  NORRISTOWN; Station 308A;...</td>\n",
              "      <td>19401.0</td>\n",
              "      <td>EMS: CARDIAC EMERGENCY</td>\n",
              "      <td>2015-12-10 17:40:01</td>\n",
              "      <td>NORRISTOWN</td>\n",
              "      <td>AIRY ST &amp; SWEDE ST</td>\n",
              "      <td>1</td>\n",
              "      <td>EMS</td>\n",
              "      <td>17</td>\n",
              "      <td>3</td>\n",
              "      <td>12</td>\n",
              "    </tr>\n",
              "    <tr>\n",
              "      <th>4</th>\n",
              "      <td>40.251492</td>\n",
              "      <td>-75.603350</td>\n",
              "      <td>CHERRYWOOD CT &amp; DEAD END;  LOWER POTTSGROVE; S...</td>\n",
              "      <td>NaN</td>\n",
              "      <td>EMS: DIZZINESS</td>\n",
              "      <td>2015-12-10 17:40:01</td>\n",
              "      <td>LOWER POTTSGROVE</td>\n",
              "      <td>CHERRYWOOD CT &amp; DEAD END</td>\n",
              "      <td>1</td>\n",
              "      <td>EMS</td>\n",
              "      <td>17</td>\n",
              "      <td>3</td>\n",
              "      <td>12</td>\n",
              "    </tr>\n",
              "    <tr>\n",
              "      <th>...</th>\n",
              "      <td>...</td>\n",
              "      <td>...</td>\n",
              "      <td>...</td>\n",
              "      <td>...</td>\n",
              "      <td>...</td>\n",
              "      <td>...</td>\n",
              "      <td>...</td>\n",
              "      <td>...</td>\n",
              "      <td>...</td>\n",
              "      <td>...</td>\n",
              "      <td>...</td>\n",
              "      <td>...</td>\n",
              "      <td>...</td>\n",
              "    </tr>\n",
              "    <tr>\n",
              "      <th>99487</th>\n",
              "      <td>40.132869</td>\n",
              "      <td>-75.333515</td>\n",
              "      <td>MARKLEY ST &amp; W LOGAN ST; NORRISTOWN; 2016-08-2...</td>\n",
              "      <td>19401.0</td>\n",
              "      <td>Traffic: VEHICLE ACCIDENT -</td>\n",
              "      <td>2016-08-24 11:06:00</td>\n",
              "      <td>NORRISTOWN</td>\n",
              "      <td>MARKLEY ST &amp; W LOGAN ST</td>\n",
              "      <td>1</td>\n",
              "      <td>Traffic</td>\n",
              "      <td>11</td>\n",
              "      <td>2</td>\n",
              "      <td>8</td>\n",
              "    </tr>\n",
              "    <tr>\n",
              "      <th>99488</th>\n",
              "      <td>40.006974</td>\n",
              "      <td>-75.289080</td>\n",
              "      <td>LANCASTER AVE &amp; RITTENHOUSE PL; LOWER MERION; ...</td>\n",
              "      <td>19003.0</td>\n",
              "      <td>Traffic: VEHICLE ACCIDENT -</td>\n",
              "      <td>2016-08-24 11:07:02</td>\n",
              "      <td>LOWER MERION</td>\n",
              "      <td>LANCASTER AVE &amp; RITTENHOUSE PL</td>\n",
              "      <td>1</td>\n",
              "      <td>Traffic</td>\n",
              "      <td>11</td>\n",
              "      <td>2</td>\n",
              "      <td>8</td>\n",
              "    </tr>\n",
              "    <tr>\n",
              "      <th>99489</th>\n",
              "      <td>40.115429</td>\n",
              "      <td>-75.334679</td>\n",
              "      <td>CHESTNUT ST &amp; WALNUT ST;  NORRISTOWN; Station ...</td>\n",
              "      <td>19401.0</td>\n",
              "      <td>EMS: FALL VICTIM</td>\n",
              "      <td>2016-08-24 11:12:00</td>\n",
              "      <td>NORRISTOWN</td>\n",
              "      <td>CHESTNUT ST &amp; WALNUT ST</td>\n",
              "      <td>1</td>\n",
              "      <td>EMS</td>\n",
              "      <td>11</td>\n",
              "      <td>2</td>\n",
              "      <td>8</td>\n",
              "    </tr>\n",
              "    <tr>\n",
              "      <th>99490</th>\n",
              "      <td>40.186431</td>\n",
              "      <td>-75.192555</td>\n",
              "      <td>WELSH RD &amp; WEBSTER LN;  HORSHAM; Station 352; ...</td>\n",
              "      <td>19002.0</td>\n",
              "      <td>EMS: NAUSEA/VOMITING</td>\n",
              "      <td>2016-08-24 11:17:01</td>\n",
              "      <td>HORSHAM</td>\n",
              "      <td>WELSH RD &amp; WEBSTER LN</td>\n",
              "      <td>1</td>\n",
              "      <td>EMS</td>\n",
              "      <td>11</td>\n",
              "      <td>2</td>\n",
              "      <td>8</td>\n",
              "    </tr>\n",
              "    <tr>\n",
              "      <th>99491</th>\n",
              "      <td>40.207055</td>\n",
              "      <td>-75.317952</td>\n",
              "      <td>MORRIS RD &amp; S BROAD ST; UPPER GWYNEDD; 2016-08...</td>\n",
              "      <td>19446.0</td>\n",
              "      <td>Traffic: VEHICLE ACCIDENT -</td>\n",
              "      <td>2016-08-24 11:17:02</td>\n",
              "      <td>UPPER GWYNEDD</td>\n",
              "      <td>MORRIS RD &amp; S BROAD ST</td>\n",
              "      <td>1</td>\n",
              "      <td>Traffic</td>\n",
              "      <td>11</td>\n",
              "      <td>2</td>\n",
              "      <td>8</td>\n",
              "    </tr>\n",
              "  </tbody>\n",
              "</table>\n",
              "<p>99492 rows × 13 columns</p>\n",
              "</div>"
            ],
            "text/plain": [
              "             lat        lng  ... DayOfWwek  Month\n",
              "0      40.297876 -75.581294  ...         3     12\n",
              "1      40.258061 -75.264680  ...         3     12\n",
              "2      40.121182 -75.351975  ...         3     12\n",
              "3      40.116153 -75.343513  ...         3     12\n",
              "4      40.251492 -75.603350  ...         3     12\n",
              "...          ...        ...  ...       ...    ...\n",
              "99487  40.132869 -75.333515  ...         2      8\n",
              "99488  40.006974 -75.289080  ...         2      8\n",
              "99489  40.115429 -75.334679  ...         2      8\n",
              "99490  40.186431 -75.192555  ...         2      8\n",
              "99491  40.207055 -75.317952  ...         2      8\n",
              "\n",
              "[99492 rows x 13 columns]"
            ]
          },
          "metadata": {
            "tags": []
          },
          "execution_count": 49
        }
      ]
    },
    {
      "cell_type": "markdown",
      "metadata": {
        "id": "vOGH085JZ7d0",
        "colab_type": "text"
      },
      "source": [
        "mapping DayOfWwek column"
      ]
    },
    {
      "cell_type": "code",
      "metadata": {
        "id": "Lm1yNZOJaX8N",
        "colab_type": "code",
        "colab": {}
      },
      "source": [
        "dmap = {0:'Mon',1:'Tue',2:'Wed',3:'Thu',4:'Fri',5:'Sat',6:'Sun'}"
      ],
      "execution_count": 50,
      "outputs": []
    },
    {
      "cell_type": "code",
      "metadata": {
        "id": "uKC4uNe1-aVA",
        "colab_type": "code",
        "colab": {
          "base_uri": "https://localhost:8080/",
          "height": 589
        },
        "outputId": "10896270-6fbf-4c45-d51f-dd76fa715bb4"
      },
      "source": [
        "df['DayOfWwek'] = df['DayOfWwek'].map(dmap)\n",
        "df"
      ],
      "execution_count": 52,
      "outputs": [
        {
          "output_type": "execute_result",
          "data": {
            "text/html": [
              "<div>\n",
              "<style scoped>\n",
              "    .dataframe tbody tr th:only-of-type {\n",
              "        vertical-align: middle;\n",
              "    }\n",
              "\n",
              "    .dataframe tbody tr th {\n",
              "        vertical-align: top;\n",
              "    }\n",
              "\n",
              "    .dataframe thead th {\n",
              "        text-align: right;\n",
              "    }\n",
              "</style>\n",
              "<table border=\"1\" class=\"dataframe\">\n",
              "  <thead>\n",
              "    <tr style=\"text-align: right;\">\n",
              "      <th></th>\n",
              "      <th>lat</th>\n",
              "      <th>lng</th>\n",
              "      <th>desc</th>\n",
              "      <th>zip</th>\n",
              "      <th>title</th>\n",
              "      <th>timeStamp</th>\n",
              "      <th>twp</th>\n",
              "      <th>addr</th>\n",
              "      <th>e</th>\n",
              "      <th>Reason</th>\n",
              "      <th>Hour</th>\n",
              "      <th>DayOfWwek</th>\n",
              "      <th>Month</th>\n",
              "    </tr>\n",
              "  </thead>\n",
              "  <tbody>\n",
              "    <tr>\n",
              "      <th>0</th>\n",
              "      <td>40.297876</td>\n",
              "      <td>-75.581294</td>\n",
              "      <td>REINDEER CT &amp; DEAD END;  NEW HANOVER; Station ...</td>\n",
              "      <td>19525.0</td>\n",
              "      <td>EMS: BACK PAINS/INJURY</td>\n",
              "      <td>2015-12-10 17:40:00</td>\n",
              "      <td>NEW HANOVER</td>\n",
              "      <td>REINDEER CT &amp; DEAD END</td>\n",
              "      <td>1</td>\n",
              "      <td>EMS</td>\n",
              "      <td>17</td>\n",
              "      <td>Thu</td>\n",
              "      <td>12</td>\n",
              "    </tr>\n",
              "    <tr>\n",
              "      <th>1</th>\n",
              "      <td>40.258061</td>\n",
              "      <td>-75.264680</td>\n",
              "      <td>BRIAR PATH &amp; WHITEMARSH LN;  HATFIELD TOWNSHIP...</td>\n",
              "      <td>19446.0</td>\n",
              "      <td>EMS: DIABETIC EMERGENCY</td>\n",
              "      <td>2015-12-10 17:40:00</td>\n",
              "      <td>HATFIELD TOWNSHIP</td>\n",
              "      <td>BRIAR PATH &amp; WHITEMARSH LN</td>\n",
              "      <td>1</td>\n",
              "      <td>EMS</td>\n",
              "      <td>17</td>\n",
              "      <td>Thu</td>\n",
              "      <td>12</td>\n",
              "    </tr>\n",
              "    <tr>\n",
              "      <th>2</th>\n",
              "      <td>40.121182</td>\n",
              "      <td>-75.351975</td>\n",
              "      <td>HAWS AVE; NORRISTOWN; 2015-12-10 @ 14:39:21-St...</td>\n",
              "      <td>19401.0</td>\n",
              "      <td>Fire: GAS-ODOR/LEAK</td>\n",
              "      <td>2015-12-10 17:40:00</td>\n",
              "      <td>NORRISTOWN</td>\n",
              "      <td>HAWS AVE</td>\n",
              "      <td>1</td>\n",
              "      <td>Fire</td>\n",
              "      <td>17</td>\n",
              "      <td>Thu</td>\n",
              "      <td>12</td>\n",
              "    </tr>\n",
              "    <tr>\n",
              "      <th>3</th>\n",
              "      <td>40.116153</td>\n",
              "      <td>-75.343513</td>\n",
              "      <td>AIRY ST &amp; SWEDE ST;  NORRISTOWN; Station 308A;...</td>\n",
              "      <td>19401.0</td>\n",
              "      <td>EMS: CARDIAC EMERGENCY</td>\n",
              "      <td>2015-12-10 17:40:01</td>\n",
              "      <td>NORRISTOWN</td>\n",
              "      <td>AIRY ST &amp; SWEDE ST</td>\n",
              "      <td>1</td>\n",
              "      <td>EMS</td>\n",
              "      <td>17</td>\n",
              "      <td>Thu</td>\n",
              "      <td>12</td>\n",
              "    </tr>\n",
              "    <tr>\n",
              "      <th>4</th>\n",
              "      <td>40.251492</td>\n",
              "      <td>-75.603350</td>\n",
              "      <td>CHERRYWOOD CT &amp; DEAD END;  LOWER POTTSGROVE; S...</td>\n",
              "      <td>NaN</td>\n",
              "      <td>EMS: DIZZINESS</td>\n",
              "      <td>2015-12-10 17:40:01</td>\n",
              "      <td>LOWER POTTSGROVE</td>\n",
              "      <td>CHERRYWOOD CT &amp; DEAD END</td>\n",
              "      <td>1</td>\n",
              "      <td>EMS</td>\n",
              "      <td>17</td>\n",
              "      <td>Thu</td>\n",
              "      <td>12</td>\n",
              "    </tr>\n",
              "    <tr>\n",
              "      <th>...</th>\n",
              "      <td>...</td>\n",
              "      <td>...</td>\n",
              "      <td>...</td>\n",
              "      <td>...</td>\n",
              "      <td>...</td>\n",
              "      <td>...</td>\n",
              "      <td>...</td>\n",
              "      <td>...</td>\n",
              "      <td>...</td>\n",
              "      <td>...</td>\n",
              "      <td>...</td>\n",
              "      <td>...</td>\n",
              "      <td>...</td>\n",
              "    </tr>\n",
              "    <tr>\n",
              "      <th>99487</th>\n",
              "      <td>40.132869</td>\n",
              "      <td>-75.333515</td>\n",
              "      <td>MARKLEY ST &amp; W LOGAN ST; NORRISTOWN; 2016-08-2...</td>\n",
              "      <td>19401.0</td>\n",
              "      <td>Traffic: VEHICLE ACCIDENT -</td>\n",
              "      <td>2016-08-24 11:06:00</td>\n",
              "      <td>NORRISTOWN</td>\n",
              "      <td>MARKLEY ST &amp; W LOGAN ST</td>\n",
              "      <td>1</td>\n",
              "      <td>Traffic</td>\n",
              "      <td>11</td>\n",
              "      <td>Wed</td>\n",
              "      <td>8</td>\n",
              "    </tr>\n",
              "    <tr>\n",
              "      <th>99488</th>\n",
              "      <td>40.006974</td>\n",
              "      <td>-75.289080</td>\n",
              "      <td>LANCASTER AVE &amp; RITTENHOUSE PL; LOWER MERION; ...</td>\n",
              "      <td>19003.0</td>\n",
              "      <td>Traffic: VEHICLE ACCIDENT -</td>\n",
              "      <td>2016-08-24 11:07:02</td>\n",
              "      <td>LOWER MERION</td>\n",
              "      <td>LANCASTER AVE &amp; RITTENHOUSE PL</td>\n",
              "      <td>1</td>\n",
              "      <td>Traffic</td>\n",
              "      <td>11</td>\n",
              "      <td>Wed</td>\n",
              "      <td>8</td>\n",
              "    </tr>\n",
              "    <tr>\n",
              "      <th>99489</th>\n",
              "      <td>40.115429</td>\n",
              "      <td>-75.334679</td>\n",
              "      <td>CHESTNUT ST &amp; WALNUT ST;  NORRISTOWN; Station ...</td>\n",
              "      <td>19401.0</td>\n",
              "      <td>EMS: FALL VICTIM</td>\n",
              "      <td>2016-08-24 11:12:00</td>\n",
              "      <td>NORRISTOWN</td>\n",
              "      <td>CHESTNUT ST &amp; WALNUT ST</td>\n",
              "      <td>1</td>\n",
              "      <td>EMS</td>\n",
              "      <td>11</td>\n",
              "      <td>Wed</td>\n",
              "      <td>8</td>\n",
              "    </tr>\n",
              "    <tr>\n",
              "      <th>99490</th>\n",
              "      <td>40.186431</td>\n",
              "      <td>-75.192555</td>\n",
              "      <td>WELSH RD &amp; WEBSTER LN;  HORSHAM; Station 352; ...</td>\n",
              "      <td>19002.0</td>\n",
              "      <td>EMS: NAUSEA/VOMITING</td>\n",
              "      <td>2016-08-24 11:17:01</td>\n",
              "      <td>HORSHAM</td>\n",
              "      <td>WELSH RD &amp; WEBSTER LN</td>\n",
              "      <td>1</td>\n",
              "      <td>EMS</td>\n",
              "      <td>11</td>\n",
              "      <td>Wed</td>\n",
              "      <td>8</td>\n",
              "    </tr>\n",
              "    <tr>\n",
              "      <th>99491</th>\n",
              "      <td>40.207055</td>\n",
              "      <td>-75.317952</td>\n",
              "      <td>MORRIS RD &amp; S BROAD ST; UPPER GWYNEDD; 2016-08...</td>\n",
              "      <td>19446.0</td>\n",
              "      <td>Traffic: VEHICLE ACCIDENT -</td>\n",
              "      <td>2016-08-24 11:17:02</td>\n",
              "      <td>UPPER GWYNEDD</td>\n",
              "      <td>MORRIS RD &amp; S BROAD ST</td>\n",
              "      <td>1</td>\n",
              "      <td>Traffic</td>\n",
              "      <td>11</td>\n",
              "      <td>Wed</td>\n",
              "      <td>8</td>\n",
              "    </tr>\n",
              "  </tbody>\n",
              "</table>\n",
              "<p>99492 rows × 13 columns</p>\n",
              "</div>"
            ],
            "text/plain": [
              "             lat        lng  ... DayOfWwek  Month\n",
              "0      40.297876 -75.581294  ...       Thu     12\n",
              "1      40.258061 -75.264680  ...       Thu     12\n",
              "2      40.121182 -75.351975  ...       Thu     12\n",
              "3      40.116153 -75.343513  ...       Thu     12\n",
              "4      40.251492 -75.603350  ...       Thu     12\n",
              "...          ...        ...  ...       ...    ...\n",
              "99487  40.132869 -75.333515  ...       Wed      8\n",
              "99488  40.006974 -75.289080  ...       Wed      8\n",
              "99489  40.115429 -75.334679  ...       Wed      8\n",
              "99490  40.186431 -75.192555  ...       Wed      8\n",
              "99491  40.207055 -75.317952  ...       Wed      8\n",
              "\n",
              "[99492 rows x 13 columns]"
            ]
          },
          "metadata": {
            "tags": []
          },
          "execution_count": 52
        }
      ]
    },
    {
      "cell_type": "markdown",
      "metadata": {
        "collapsed": false,
        "id": "Mz9BH4dbaX8U",
        "colab_type": "text"
      },
      "source": [
        "seaborn countplot of the Day of Week column with the hue based off of the Reason column"
      ]
    },
    {
      "cell_type": "code",
      "metadata": {
        "id": "eNRLGB6It8jY",
        "colab_type": "code",
        "colab": {
          "base_uri": "https://localhost:8080/",
          "height": 296
        },
        "outputId": "055b69b3-8a30-4502-feba-6ca45c724bd2"
      },
      "source": [
        "import seaborn as sns\n",
        "a = sns.countplot(x=df['DayOfWwek'],data=df,hue=df['Reason'],palette='viridis')\n",
        "a.legend(bbox_to_anchor=(1.05,1),loc=2,borderaxespad=.0)"
      ],
      "execution_count": 53,
      "outputs": [
        {
          "output_type": "execute_result",
          "data": {
            "text/plain": [
              "<matplotlib.legend.Legend at 0x7f0c4f411470>"
            ]
          },
          "metadata": {
            "tags": []
          },
          "execution_count": 53
        },
        {
          "output_type": "display_data",
          "data": {
            "image/png": "[encoded data removed]",
            "text/plain": [
              "<Figure size 432x288 with 1 Axes>"
            ]
          },
          "metadata": {
            "tags": [],
            "needs_background": "light"
          }
        }
      ]
    },
    {
      "cell_type": "markdown",
      "metadata": {
        "id": "hayDjK3laNHB",
        "colab_type": "text"
      },
      "source": [
        "seaborn countplot of the Month column with the hue based off of the Reason column"
      ]
    },
    {
      "cell_type": "code",
      "metadata": {
        "id": "zzbz8RvGDekZ",
        "colab_type": "code",
        "colab": {
          "base_uri": "https://localhost:8080/",
          "height": 296
        },
        "outputId": "d2226d46-c547-4309-8026-6c672c5aa91b"
      },
      "source": [
        "b = sns.countplot(x='Month',data=df,hue='Reason')\n",
        "b.legend(bbox_to_anchor=(1.3,1),loc=1)"
      ],
      "execution_count": 54,
      "outputs": [
        {
          "output_type": "execute_result",
          "data": {
            "text/plain": [
              "<matplotlib.legend.Legend at 0x7f0c4d9ef828>"
            ]
          },
          "metadata": {
            "tags": []
          },
          "execution_count": 54
        },
        {
          "output_type": "display_data",
          "data": {
            "image/png": "[encoded data removed]",
            "text/plain": [
              "<Figure size 432x288 with 1 Axes>"
            ]
          },
          "metadata": {
            "tags": [],
            "needs_background": "light"
          }
        }
      ]
    },
    {
      "cell_type": "markdown",
      "metadata": {
        "id": "mWZHqw8KaX8b",
        "colab_type": "text"
      },
      "source": [
        "gropuby object called byMonth, where DataFrame is grouped by the month column"
      ]
    },
    {
      "cell_type": "code",
      "metadata": {
        "id": "cEzqWX3pOuu7",
        "colab_type": "code",
        "colab": {
          "base_uri": "https://localhost:8080/",
          "height": 359
        },
        "outputId": "97947aba-0fe2-4703-f99c-df0698517650"
      },
      "source": [
        "byMonth = df.groupby('Month').count()\n",
        "byMonth"
      ],
      "execution_count": 55,
      "outputs": [
        {
          "output_type": "execute_result",
          "data": {
            "text/html": [
              "<div>\n",
              "<style scoped>\n",
              "    .dataframe tbody tr th:only-of-type {\n",
              "        vertical-align: middle;\n",
              "    }\n",
              "\n",
              "    .dataframe tbody tr th {\n",
              "        vertical-align: top;\n",
              "    }\n",
              "\n",
              "    .dataframe thead th {\n",
              "        text-align: right;\n",
              "    }\n",
              "</style>\n",
              "<table border=\"1\" class=\"dataframe\">\n",
              "  <thead>\n",
              "    <tr style=\"text-align: right;\">\n",
              "      <th></th>\n",
              "      <th>lat</th>\n",
              "      <th>lng</th>\n",
              "      <th>desc</th>\n",
              "      <th>zip</th>\n",
              "      <th>title</th>\n",
              "      <th>timeStamp</th>\n",
              "      <th>twp</th>\n",
              "      <th>addr</th>\n",
              "      <th>e</th>\n",
              "      <th>Reason</th>\n",
              "      <th>Hour</th>\n",
              "      <th>DayOfWwek</th>\n",
              "    </tr>\n",
              "    <tr>\n",
              "      <th>Month</th>\n",
              "      <th></th>\n",
              "      <th></th>\n",
              "      <th></th>\n",
              "      <th></th>\n",
              "      <th></th>\n",
              "      <th></th>\n",
              "      <th></th>\n",
              "      <th></th>\n",
              "      <th></th>\n",
              "      <th></th>\n",
              "      <th></th>\n",
              "      <th></th>\n",
              "    </tr>\n",
              "  </thead>\n",
              "  <tbody>\n",
              "    <tr>\n",
              "      <th>1</th>\n",
              "      <td>13205</td>\n",
              "      <td>13205</td>\n",
              "      <td>13205</td>\n",
              "      <td>11527</td>\n",
              "      <td>13205</td>\n",
              "      <td>13205</td>\n",
              "      <td>13203</td>\n",
              "      <td>13096</td>\n",
              "      <td>13205</td>\n",
              "      <td>13205</td>\n",
              "      <td>13205</td>\n",
              "      <td>13205</td>\n",
              "    </tr>\n",
              "    <tr>\n",
              "      <th>2</th>\n",
              "      <td>11467</td>\n",
              "      <td>11467</td>\n",
              "      <td>11467</td>\n",
              "      <td>9930</td>\n",
              "      <td>11467</td>\n",
              "      <td>11467</td>\n",
              "      <td>11465</td>\n",
              "      <td>11396</td>\n",
              "      <td>11467</td>\n",
              "      <td>11467</td>\n",
              "      <td>11467</td>\n",
              "      <td>11467</td>\n",
              "    </tr>\n",
              "    <tr>\n",
              "      <th>3</th>\n",
              "      <td>11101</td>\n",
              "      <td>11101</td>\n",
              "      <td>11101</td>\n",
              "      <td>9755</td>\n",
              "      <td>11101</td>\n",
              "      <td>11101</td>\n",
              "      <td>11092</td>\n",
              "      <td>11059</td>\n",
              "      <td>11101</td>\n",
              "      <td>11101</td>\n",
              "      <td>11101</td>\n",
              "      <td>11101</td>\n",
              "    </tr>\n",
              "    <tr>\n",
              "      <th>4</th>\n",
              "      <td>11326</td>\n",
              "      <td>11326</td>\n",
              "      <td>11326</td>\n",
              "      <td>9895</td>\n",
              "      <td>11326</td>\n",
              "      <td>11326</td>\n",
              "      <td>11323</td>\n",
              "      <td>11283</td>\n",
              "      <td>11326</td>\n",
              "      <td>11326</td>\n",
              "      <td>11326</td>\n",
              "      <td>11326</td>\n",
              "    </tr>\n",
              "    <tr>\n",
              "      <th>5</th>\n",
              "      <td>11423</td>\n",
              "      <td>11423</td>\n",
              "      <td>11423</td>\n",
              "      <td>9946</td>\n",
              "      <td>11423</td>\n",
              "      <td>11423</td>\n",
              "      <td>11420</td>\n",
              "      <td>11378</td>\n",
              "      <td>11423</td>\n",
              "      <td>11423</td>\n",
              "      <td>11423</td>\n",
              "      <td>11423</td>\n",
              "    </tr>\n",
              "    <tr>\n",
              "      <th>6</th>\n",
              "      <td>11786</td>\n",
              "      <td>11786</td>\n",
              "      <td>11786</td>\n",
              "      <td>10212</td>\n",
              "      <td>11786</td>\n",
              "      <td>11786</td>\n",
              "      <td>11777</td>\n",
              "      <td>11732</td>\n",
              "      <td>11786</td>\n",
              "      <td>11786</td>\n",
              "      <td>11786</td>\n",
              "      <td>11786</td>\n",
              "    </tr>\n",
              "    <tr>\n",
              "      <th>7</th>\n",
              "      <td>12137</td>\n",
              "      <td>12137</td>\n",
              "      <td>12137</td>\n",
              "      <td>10633</td>\n",
              "      <td>12137</td>\n",
              "      <td>12137</td>\n",
              "      <td>12133</td>\n",
              "      <td>12088</td>\n",
              "      <td>12137</td>\n",
              "      <td>12137</td>\n",
              "      <td>12137</td>\n",
              "      <td>12137</td>\n",
              "    </tr>\n",
              "    <tr>\n",
              "      <th>8</th>\n",
              "      <td>9078</td>\n",
              "      <td>9078</td>\n",
              "      <td>9078</td>\n",
              "      <td>7832</td>\n",
              "      <td>9078</td>\n",
              "      <td>9078</td>\n",
              "      <td>9073</td>\n",
              "      <td>9025</td>\n",
              "      <td>9078</td>\n",
              "      <td>9078</td>\n",
              "      <td>9078</td>\n",
              "      <td>9078</td>\n",
              "    </tr>\n",
              "    <tr>\n",
              "      <th>12</th>\n",
              "      <td>7969</td>\n",
              "      <td>7969</td>\n",
              "      <td>7969</td>\n",
              "      <td>6907</td>\n",
              "      <td>7969</td>\n",
              "      <td>7969</td>\n",
              "      <td>7963</td>\n",
              "      <td>7916</td>\n",
              "      <td>7969</td>\n",
              "      <td>7969</td>\n",
              "      <td>7969</td>\n",
              "      <td>7969</td>\n",
              "    </tr>\n",
              "  </tbody>\n",
              "</table>\n",
              "</div>"
            ],
            "text/plain": [
              "         lat    lng   desc    zip  ...      e  Reason   Hour  DayOfWwek\n",
              "Month                              ...                                 \n",
              "1      13205  13205  13205  11527  ...  13205   13205  13205      13205\n",
              "2      11467  11467  11467   9930  ...  11467   11467  11467      11467\n",
              "3      11101  11101  11101   9755  ...  11101   11101  11101      11101\n",
              "4      11326  11326  11326   9895  ...  11326   11326  11326      11326\n",
              "5      11423  11423  11423   9946  ...  11423   11423  11423      11423\n",
              "6      11786  11786  11786  10212  ...  11786   11786  11786      11786\n",
              "7      12137  12137  12137  10633  ...  12137   12137  12137      12137\n",
              "8       9078   9078   9078   7832  ...   9078    9078   9078       9078\n",
              "12      7969   7969   7969   6907  ...   7969    7969   7969       7969\n",
              "\n",
              "[9 rows x 12 columns]"
            ]
          },
          "metadata": {
            "tags": []
          },
          "execution_count": 55
        }
      ]
    },
    {
      "cell_type": "code",
      "metadata": {
        "id": "2yAhSY-kUfV7",
        "colab_type": "code",
        "colab": {
          "base_uri": "https://localhost:8080/",
          "height": 386
        },
        "outputId": "fb6393cb-d585-4caf-b54c-4992f78c6403"
      },
      "source": [
        "sns.lmplot(x='Month',y='twp',data=byMonth.reset_index())"
      ],
      "execution_count": 57,
      "outputs": [
        {
          "output_type": "execute_result",
          "data": {
            "text/plain": [
              "<seaborn.axisgrid.FacetGrid at 0x7f0c4d88f710>"
            ]
          },
          "metadata": {
            "tags": []
          },
          "execution_count": 57
        },
        {
          "output_type": "display_data",
          "data": {
            "image/png": "[encoded data removed]",
            "text/plain": [
              "<Figure size 360x360 with 1 Axes>"
            ]
          },
          "metadata": {
            "tags": [],
            "needs_background": "light"
          }
        }
      ]
    },
    {
      "cell_type": "code",
      "metadata": {
        "id": "8PQSWIrqd7MA",
        "colab_type": "code",
        "colab": {
          "base_uri": "https://localhost:8080/",
          "height": 289
        },
        "outputId": "1eb5d8e6-81de-4e97-fe35-45e1f410df6a"
      },
      "source": [
        "df.head()"
      ],
      "execution_count": 59,
      "outputs": [
        {
          "output_type": "execute_result",
          "data": {
            "text/html": [
              "<div>\n",
              "<style scoped>\n",
              "    .dataframe tbody tr th:only-of-type {\n",
              "        vertical-align: middle;\n",
              "    }\n",
              "\n",
              "    .dataframe tbody tr th {\n",
              "        vertical-align: top;\n",
              "    }\n",
              "\n",
              "    .dataframe thead th {\n",
              "        text-align: right;\n",
              "    }\n",
              "</style>\n",
              "<table border=\"1\" class=\"dataframe\">\n",
              "  <thead>\n",
              "    <tr style=\"text-align: right;\">\n",
              "      <th></th>\n",
              "      <th>lat</th>\n",
              "      <th>lng</th>\n",
              "      <th>desc</th>\n",
              "      <th>zip</th>\n",
              "      <th>title</th>\n",
              "      <th>timeStamp</th>\n",
              "      <th>twp</th>\n",
              "      <th>addr</th>\n",
              "      <th>e</th>\n",
              "      <th>Reason</th>\n",
              "      <th>Hour</th>\n",
              "      <th>DayOfWwek</th>\n",
              "      <th>Month</th>\n",
              "    </tr>\n",
              "  </thead>\n",
              "  <tbody>\n",
              "    <tr>\n",
              "      <th>0</th>\n",
              "      <td>40.297876</td>\n",
              "      <td>-75.581294</td>\n",
              "      <td>REINDEER CT &amp; DEAD END;  NEW HANOVER; Station ...</td>\n",
              "      <td>19525.0</td>\n",
              "      <td>EMS: BACK PAINS/INJURY</td>\n",
              "      <td>2015-12-10 17:40:00</td>\n",
              "      <td>NEW HANOVER</td>\n",
              "      <td>REINDEER CT &amp; DEAD END</td>\n",
              "      <td>1</td>\n",
              "      <td>EMS</td>\n",
              "      <td>17</td>\n",
              "      <td>Thu</td>\n",
              "      <td>12</td>\n",
              "    </tr>\n",
              "    <tr>\n",
              "      <th>1</th>\n",
              "      <td>40.258061</td>\n",
              "      <td>-75.264680</td>\n",
              "      <td>BRIAR PATH &amp; WHITEMARSH LN;  HATFIELD TOWNSHIP...</td>\n",
              "      <td>19446.0</td>\n",
              "      <td>EMS: DIABETIC EMERGENCY</td>\n",
              "      <td>2015-12-10 17:40:00</td>\n",
              "      <td>HATFIELD TOWNSHIP</td>\n",
              "      <td>BRIAR PATH &amp; WHITEMARSH LN</td>\n",
              "      <td>1</td>\n",
              "      <td>EMS</td>\n",
              "      <td>17</td>\n",
              "      <td>Thu</td>\n",
              "      <td>12</td>\n",
              "    </tr>\n",
              "    <tr>\n",
              "      <th>2</th>\n",
              "      <td>40.121182</td>\n",
              "      <td>-75.351975</td>\n",
              "      <td>HAWS AVE; NORRISTOWN; 2015-12-10 @ 14:39:21-St...</td>\n",
              "      <td>19401.0</td>\n",
              "      <td>Fire: GAS-ODOR/LEAK</td>\n",
              "      <td>2015-12-10 17:40:00</td>\n",
              "      <td>NORRISTOWN</td>\n",
              "      <td>HAWS AVE</td>\n",
              "      <td>1</td>\n",
              "      <td>Fire</td>\n",
              "      <td>17</td>\n",
              "      <td>Thu</td>\n",
              "      <td>12</td>\n",
              "    </tr>\n",
              "    <tr>\n",
              "      <th>3</th>\n",
              "      <td>40.116153</td>\n",
              "      <td>-75.343513</td>\n",
              "      <td>AIRY ST &amp; SWEDE ST;  NORRISTOWN; Station 308A;...</td>\n",
              "      <td>19401.0</td>\n",
              "      <td>EMS: CARDIAC EMERGENCY</td>\n",
              "      <td>2015-12-10 17:40:01</td>\n",
              "      <td>NORRISTOWN</td>\n",
              "      <td>AIRY ST &amp; SWEDE ST</td>\n",
              "      <td>1</td>\n",
              "      <td>EMS</td>\n",
              "      <td>17</td>\n",
              "      <td>Thu</td>\n",
              "      <td>12</td>\n",
              "    </tr>\n",
              "    <tr>\n",
              "      <th>4</th>\n",
              "      <td>40.251492</td>\n",
              "      <td>-75.603350</td>\n",
              "      <td>CHERRYWOOD CT &amp; DEAD END;  LOWER POTTSGROVE; S...</td>\n",
              "      <td>NaN</td>\n",
              "      <td>EMS: DIZZINESS</td>\n",
              "      <td>2015-12-10 17:40:01</td>\n",
              "      <td>LOWER POTTSGROVE</td>\n",
              "      <td>CHERRYWOOD CT &amp; DEAD END</td>\n",
              "      <td>1</td>\n",
              "      <td>EMS</td>\n",
              "      <td>17</td>\n",
              "      <td>Thu</td>\n",
              "      <td>12</td>\n",
              "    </tr>\n",
              "  </tbody>\n",
              "</table>\n",
              "</div>"
            ],
            "text/plain": [
              "         lat        lng  ... DayOfWwek  Month\n",
              "0  40.297876 -75.581294  ...       Thu     12\n",
              "1  40.258061 -75.264680  ...       Thu     12\n",
              "2  40.121182 -75.351975  ...       Thu     12\n",
              "3  40.116153 -75.343513  ...       Thu     12\n",
              "4  40.251492 -75.603350  ...       Thu     12\n",
              "\n",
              "[5 rows x 13 columns]"
            ]
          },
          "metadata": {
            "tags": []
          },
          "execution_count": 59
        }
      ]
    },
    {
      "cell_type": "markdown",
      "metadata": {
        "id": "PWSSfoQnaX8o",
        "colab_type": "text"
      },
      "source": [
        "new column called 'Date' that contains the date from the timeStamp column."
      ]
    },
    {
      "cell_type": "code",
      "metadata": {
        "id": "aAS77K6PaX8p",
        "colab_type": "code",
        "colab": {
          "base_uri": "https://localhost:8080/",
          "height": 623
        },
        "outputId": "8b58bf63-5be0-4223-eabd-98325fcf89d7"
      },
      "source": [
        "df['timeStamp']=pd.to_datetime(df['timeStamp'])\n",
        "df['Date'] = df['timeStamp'].apply(lambda a: a.date())\n",
        "df"
      ],
      "execution_count": 60,
      "outputs": [
        {
          "output_type": "execute_result",
          "data": {
            "text/html": [
              "<div>\n",
              "<style scoped>\n",
              "    .dataframe tbody tr th:only-of-type {\n",
              "        vertical-align: middle;\n",
              "    }\n",
              "\n",
              "    .dataframe tbody tr th {\n",
              "        vertical-align: top;\n",
              "    }\n",
              "\n",
              "    .dataframe thead th {\n",
              "        text-align: right;\n",
              "    }\n",
              "</style>\n",
              "<table border=\"1\" class=\"dataframe\">\n",
              "  <thead>\n",
              "    <tr style=\"text-align: right;\">\n",
              "      <th></th>\n",
              "      <th>lat</th>\n",
              "      <th>lng</th>\n",
              "      <th>desc</th>\n",
              "      <th>zip</th>\n",
              "      <th>title</th>\n",
              "      <th>timeStamp</th>\n",
              "      <th>twp</th>\n",
              "      <th>addr</th>\n",
              "      <th>e</th>\n",
              "      <th>Reason</th>\n",
              "      <th>Hour</th>\n",
              "      <th>DayOfWwek</th>\n",
              "      <th>Month</th>\n",
              "      <th>Date</th>\n",
              "    </tr>\n",
              "  </thead>\n",
              "  <tbody>\n",
              "    <tr>\n",
              "      <th>0</th>\n",
              "      <td>40.297876</td>\n",
              "      <td>-75.581294</td>\n",
              "      <td>REINDEER CT &amp; DEAD END;  NEW HANOVER; Station ...</td>\n",
              "      <td>19525.0</td>\n",
              "      <td>EMS: BACK PAINS/INJURY</td>\n",
              "      <td>2015-12-10 17:40:00</td>\n",
              "      <td>NEW HANOVER</td>\n",
              "      <td>REINDEER CT &amp; DEAD END</td>\n",
              "      <td>1</td>\n",
              "      <td>EMS</td>\n",
              "      <td>17</td>\n",
              "      <td>Thu</td>\n",
              "      <td>12</td>\n",
              "      <td>2015-12-10</td>\n",
              "    </tr>\n",
              "    <tr>\n",
              "      <th>1</th>\n",
              "      <td>40.258061</td>\n",
              "      <td>-75.264680</td>\n",
              "      <td>BRIAR PATH &amp; WHITEMARSH LN;  HATFIELD TOWNSHIP...</td>\n",
              "      <td>19446.0</td>\n",
              "      <td>EMS: DIABETIC EMERGENCY</td>\n",
              "      <td>2015-12-10 17:40:00</td>\n",
              "      <td>HATFIELD TOWNSHIP</td>\n",
              "      <td>BRIAR PATH &amp; WHITEMARSH LN</td>\n",
              "      <td>1</td>\n",
              "      <td>EMS</td>\n",
              "      <td>17</td>\n",
              "      <td>Thu</td>\n",
              "      <td>12</td>\n",
              "      <td>2015-12-10</td>\n",
              "    </tr>\n",
              "    <tr>\n",
              "      <th>2</th>\n",
              "      <td>40.121182</td>\n",
              "      <td>-75.351975</td>\n",
              "      <td>HAWS AVE; NORRISTOWN; 2015-12-10 @ 14:39:21-St...</td>\n",
              "      <td>19401.0</td>\n",
              "      <td>Fire: GAS-ODOR/LEAK</td>\n",
              "      <td>2015-12-10 17:40:00</td>\n",
              "      <td>NORRISTOWN</td>\n",
              "      <td>HAWS AVE</td>\n",
              "      <td>1</td>\n",
              "      <td>Fire</td>\n",
              "      <td>17</td>\n",
              "      <td>Thu</td>\n",
              "      <td>12</td>\n",
              "      <td>2015-12-10</td>\n",
              "    </tr>\n",
              "    <tr>\n",
              "      <th>3</th>\n",
              "      <td>40.116153</td>\n",
              "      <td>-75.343513</td>\n",
              "      <td>AIRY ST &amp; SWEDE ST;  NORRISTOWN; Station 308A;...</td>\n",
              "      <td>19401.0</td>\n",
              "      <td>EMS: CARDIAC EMERGENCY</td>\n",
              "      <td>2015-12-10 17:40:01</td>\n",
              "      <td>NORRISTOWN</td>\n",
              "      <td>AIRY ST &amp; SWEDE ST</td>\n",
              "      <td>1</td>\n",
              "      <td>EMS</td>\n",
              "      <td>17</td>\n",
              "      <td>Thu</td>\n",
              "      <td>12</td>\n",
              "      <td>2015-12-10</td>\n",
              "    </tr>\n",
              "    <tr>\n",
              "      <th>4</th>\n",
              "      <td>40.251492</td>\n",
              "      <td>-75.603350</td>\n",
              "      <td>CHERRYWOOD CT &amp; DEAD END;  LOWER POTTSGROVE; S...</td>\n",
              "      <td>NaN</td>\n",
              "      <td>EMS: DIZZINESS</td>\n",
              "      <td>2015-12-10 17:40:01</td>\n",
              "      <td>LOWER POTTSGROVE</td>\n",
              "      <td>CHERRYWOOD CT &amp; DEAD END</td>\n",
              "      <td>1</td>\n",
              "      <td>EMS</td>\n",
              "      <td>17</td>\n",
              "      <td>Thu</td>\n",
              "      <td>12</td>\n",
              "      <td>2015-12-10</td>\n",
              "    </tr>\n",
              "    <tr>\n",
              "      <th>...</th>\n",
              "      <td>...</td>\n",
              "      <td>...</td>\n",
              "      <td>...</td>\n",
              "      <td>...</td>\n",
              "      <td>...</td>\n",
              "      <td>...</td>\n",
              "      <td>...</td>\n",
              "      <td>...</td>\n",
              "      <td>...</td>\n",
              "      <td>...</td>\n",
              "      <td>...</td>\n",
              "      <td>...</td>\n",
              "      <td>...</td>\n",
              "      <td>...</td>\n",
              "    </tr>\n",
              "    <tr>\n",
              "      <th>99487</th>\n",
              "      <td>40.132869</td>\n",
              "      <td>-75.333515</td>\n",
              "      <td>MARKLEY ST &amp; W LOGAN ST; NORRISTOWN; 2016-08-2...</td>\n",
              "      <td>19401.0</td>\n",
              "      <td>Traffic: VEHICLE ACCIDENT -</td>\n",
              "      <td>2016-08-24 11:06:00</td>\n",
              "      <td>NORRISTOWN</td>\n",
              "      <td>MARKLEY ST &amp; W LOGAN ST</td>\n",
              "      <td>1</td>\n",
              "      <td>Traffic</td>\n",
              "      <td>11</td>\n",
              "      <td>Wed</td>\n",
              "      <td>8</td>\n",
              "      <td>2016-08-24</td>\n",
              "    </tr>\n",
              "    <tr>\n",
              "      <th>99488</th>\n",
              "      <td>40.006974</td>\n",
              "      <td>-75.289080</td>\n",
              "      <td>LANCASTER AVE &amp; RITTENHOUSE PL; LOWER MERION; ...</td>\n",
              "      <td>19003.0</td>\n",
              "      <td>Traffic: VEHICLE ACCIDENT -</td>\n",
              "      <td>2016-08-24 11:07:02</td>\n",
              "      <td>LOWER MERION</td>\n",
              "      <td>LANCASTER AVE &amp; RITTENHOUSE PL</td>\n",
              "      <td>1</td>\n",
              "      <td>Traffic</td>\n",
              "      <td>11</td>\n",
              "      <td>Wed</td>\n",
              "      <td>8</td>\n",
              "      <td>2016-08-24</td>\n",
              "    </tr>\n",
              "    <tr>\n",
              "      <th>99489</th>\n",
              "      <td>40.115429</td>\n",
              "      <td>-75.334679</td>\n",
              "      <td>CHESTNUT ST &amp; WALNUT ST;  NORRISTOWN; Station ...</td>\n",
              "      <td>19401.0</td>\n",
              "      <td>EMS: FALL VICTIM</td>\n",
              "      <td>2016-08-24 11:12:00</td>\n",
              "      <td>NORRISTOWN</td>\n",
              "      <td>CHESTNUT ST &amp; WALNUT ST</td>\n",
              "      <td>1</td>\n",
              "      <td>EMS</td>\n",
              "      <td>11</td>\n",
              "      <td>Wed</td>\n",
              "      <td>8</td>\n",
              "      <td>2016-08-24</td>\n",
              "    </tr>\n",
              "    <tr>\n",
              "      <th>99490</th>\n",
              "      <td>40.186431</td>\n",
              "      <td>-75.192555</td>\n",
              "      <td>WELSH RD &amp; WEBSTER LN;  HORSHAM; Station 352; ...</td>\n",
              "      <td>19002.0</td>\n",
              "      <td>EMS: NAUSEA/VOMITING</td>\n",
              "      <td>2016-08-24 11:17:01</td>\n",
              "      <td>HORSHAM</td>\n",
              "      <td>WELSH RD &amp; WEBSTER LN</td>\n",
              "      <td>1</td>\n",
              "      <td>EMS</td>\n",
              "      <td>11</td>\n",
              "      <td>Wed</td>\n",
              "      <td>8</td>\n",
              "      <td>2016-08-24</td>\n",
              "    </tr>\n",
              "    <tr>\n",
              "      <th>99491</th>\n",
              "      <td>40.207055</td>\n",
              "      <td>-75.317952</td>\n",
              "      <td>MORRIS RD &amp; S BROAD ST; UPPER GWYNEDD; 2016-08...</td>\n",
              "      <td>19446.0</td>\n",
              "      <td>Traffic: VEHICLE ACCIDENT -</td>\n",
              "      <td>2016-08-24 11:17:02</td>\n",
              "      <td>UPPER GWYNEDD</td>\n",
              "      <td>MORRIS RD &amp; S BROAD ST</td>\n",
              "      <td>1</td>\n",
              "      <td>Traffic</td>\n",
              "      <td>11</td>\n",
              "      <td>Wed</td>\n",
              "      <td>8</td>\n",
              "      <td>2016-08-24</td>\n",
              "    </tr>\n",
              "  </tbody>\n",
              "</table>\n",
              "<p>99492 rows × 14 columns</p>\n",
              "</div>"
            ],
            "text/plain": [
              "             lat        lng  ... Month        Date\n",
              "0      40.297876 -75.581294  ...    12  2015-12-10\n",
              "1      40.258061 -75.264680  ...    12  2015-12-10\n",
              "2      40.121182 -75.351975  ...    12  2015-12-10\n",
              "3      40.116153 -75.343513  ...    12  2015-12-10\n",
              "4      40.251492 -75.603350  ...    12  2015-12-10\n",
              "...          ...        ...  ...   ...         ...\n",
              "99487  40.132869 -75.333515  ...     8  2016-08-24\n",
              "99488  40.006974 -75.289080  ...     8  2016-08-24\n",
              "99489  40.115429 -75.334679  ...     8  2016-08-24\n",
              "99490  40.186431 -75.192555  ...     8  2016-08-24\n",
              "99491  40.207055 -75.317952  ...     8  2016-08-24\n",
              "\n",
              "[99492 rows x 14 columns]"
            ]
          },
          "metadata": {
            "tags": []
          },
          "execution_count": 60
        }
      ]
    },
    {
      "cell_type": "markdown",
      "metadata": {
        "id": "xEDCEzBYaX8s",
        "colab_type": "text"
      },
      "source": [
        "column grouped by Date with the count() aggregate and create"
      ]
    },
    {
      "cell_type": "code",
      "metadata": {
        "id": "CCDDNpu_Cbdh",
        "colab_type": "code",
        "colab": {
          "base_uri": "https://localhost:8080/",
          "height": 296
        },
        "outputId": "d291deff-2c69-4744-cbb2-72bca4396e9a"
      },
      "source": [
        "a = df.groupby('Date').count()['twp'].plot()\n",
        "a.legend(bbox_to_anchor=(1.2,1))"
      ],
      "execution_count": 61,
      "outputs": [
        {
          "output_type": "execute_result",
          "data": {
            "text/plain": [
              "<matplotlib.legend.Legend at 0x7f0c4daa6828>"
            ]
          },
          "metadata": {
            "tags": []
          },
          "execution_count": 61
        },
        {
          "output_type": "display_data",
          "data": {
            "image/png": "[encoded data removed]",
            "text/plain": [
              "<Figure size 432x288 with 1 Axes>"
            ]
          },
          "metadata": {
            "tags": [],
            "needs_background": "light"
          }
        }
      ]
    },
    {
      "cell_type": "markdown",
      "metadata": {
        "id": "rJwePjOcaX8v",
        "colab_type": "text"
      },
      "source": [
        "3 separate plots with each plot representing a Reason for the 911 call"
      ]
    },
    {
      "cell_type": "code",
      "metadata": {
        "id": "e1rlI0FzEmwt",
        "colab_type": "code",
        "colab": {
          "base_uri": "https://localhost:8080/",
          "height": 296
        },
        "outputId": "d97adfd5-b852-4f57-8746-d7639ab8547e"
      },
      "source": [
        "df[df['Reason']=='Traffic'].groupby('Date').count()['twp'].plot()\n"
      ],
      "execution_count": 62,
      "outputs": [
        {
          "output_type": "execute_result",
          "data": {
            "text/plain": [
              "<matplotlib.axes._subplots.AxesSubplot at 0x7f0c4d934828>"
            ]
          },
          "metadata": {
            "tags": []
          },
          "execution_count": 62
        },
        {
          "output_type": "display_data",
          "data": {
            "image/png": "[encoded data removed]",
            "text/plain": [
              "<Figure size 432x288 with 1 Axes>"
            ]
          },
          "metadata": {
            "tags": [],
            "needs_background": "light"
          }
        }
      ]
    },
    {
      "cell_type": "code",
      "metadata": {
        "id": "api894eXGn3U",
        "colab_type": "code",
        "colab": {
          "base_uri": "https://localhost:8080/",
          "height": 296
        },
        "outputId": "09a055c8-0402-40c5-e1a3-0af402c9db1d"
      },
      "source": [
        "df[df['Reason']=='EMS'].groupby('Date').count()['twp'].plot()"
      ],
      "execution_count": 63,
      "outputs": [
        {
          "output_type": "execute_result",
          "data": {
            "text/plain": [
              "<matplotlib.axes._subplots.AxesSubplot at 0x7f0c4af7ce80>"
            ]
          },
          "metadata": {
            "tags": []
          },
          "execution_count": 63
        },
        {
          "output_type": "display_data",
          "data": {
            "image/png": "[encoded data removed]",
            "text/plain": [
              "<Figure size 432x288 with 1 Axes>"
            ]
          },
          "metadata": {
            "tags": [],
            "needs_background": "light"
          }
        }
      ]
    },
    {
      "cell_type": "code",
      "metadata": {
        "id": "D308noVJG67m",
        "colab_type": "code",
        "colab": {
          "base_uri": "https://localhost:8080/",
          "height": 296
        },
        "outputId": "ff9a218a-a67b-4e98-e41c-7a83ffaa259f"
      },
      "source": [
        "df[df['Reason']=='Fire'].groupby('Date').count()['twp'].plot()"
      ],
      "execution_count": 64,
      "outputs": [
        {
          "output_type": "execute_result",
          "data": {
            "text/plain": [
              "<matplotlib.axes._subplots.AxesSubplot at 0x7f0c4af4f8d0>"
            ]
          },
          "metadata": {
            "tags": []
          },
          "execution_count": 64
        },
        {
          "output_type": "display_data",
          "data": {
            "image/png": "[encoded data removed]",
            "text/plain": [
              "<Figure size 432x288 with 1 Axes>"
            ]
          },
          "metadata": {
            "tags": [],
            "needs_background": "light"
          }
        }
      ]
    },
    {
      "cell_type": "markdown",
      "metadata": {
        "collapsed": false,
        "id": "oUJEYEjDaX89",
        "colab_type": "text"
      },
      "source": [
        "heatmaps Days of Week and Hours"
      ]
    },
    {
      "cell_type": "code",
      "metadata": {
        "id": "36ZrlrJDaX8-",
        "colab_type": "code",
        "colab": {}
      },
      "source": [
        "df"
      ],
      "execution_count": null,
      "outputs": []
    },
    {
      "cell_type": "code",
      "metadata": {
        "id": "A88RPNLlKQYm",
        "colab_type": "code",
        "colab": {}
      },
      "source": [
        "df.head()"
      ],
      "execution_count": null,
      "outputs": []
    },
    {
      "cell_type": "code",
      "metadata": {
        "id": "gULhMLKAJd9g",
        "colab_type": "code",
        "colab": {
          "base_uri": "https://localhost:8080/",
          "height": 297
        },
        "outputId": "f5044262-b208-4057-98e6-d5bfbf4b2cea"
      },
      "source": [
        "df1 = df.groupby(by=['DayOfWwek','Hour']).count()['Reason'].unstack()\n",
        "df1"
      ],
      "execution_count": 65,
      "outputs": [
        {
          "output_type": "execute_result",
          "data": {
            "text/html": [
              "<div>\n",
              "<style scoped>\n",
              "    .dataframe tbody tr th:only-of-type {\n",
              "        vertical-align: middle;\n",
              "    }\n",
              "\n",
              "    .dataframe tbody tr th {\n",
              "        vertical-align: top;\n",
              "    }\n",
              "\n",
              "    .dataframe thead th {\n",
              "        text-align: right;\n",
              "    }\n",
              "</style>\n",
              "<table border=\"1\" class=\"dataframe\">\n",
              "  <thead>\n",
              "    <tr style=\"text-align: right;\">\n",
              "      <th>Hour</th>\n",
              "      <th>0</th>\n",
              "      <th>1</th>\n",
              "      <th>2</th>\n",
              "      <th>3</th>\n",
              "      <th>4</th>\n",
              "      <th>5</th>\n",
              "      <th>6</th>\n",
              "      <th>7</th>\n",
              "      <th>8</th>\n",
              "      <th>9</th>\n",
              "      <th>10</th>\n",
              "      <th>11</th>\n",
              "      <th>12</th>\n",
              "      <th>13</th>\n",
              "      <th>14</th>\n",
              "      <th>15</th>\n",
              "      <th>16</th>\n",
              "      <th>17</th>\n",
              "      <th>18</th>\n",
              "      <th>19</th>\n",
              "      <th>20</th>\n",
              "      <th>21</th>\n",
              "      <th>22</th>\n",
              "      <th>23</th>\n",
              "    </tr>\n",
              "    <tr>\n",
              "      <th>DayOfWwek</th>\n",
              "      <th></th>\n",
              "      <th></th>\n",
              "      <th></th>\n",
              "      <th></th>\n",
              "      <th></th>\n",
              "      <th></th>\n",
              "      <th></th>\n",
              "      <th></th>\n",
              "      <th></th>\n",
              "      <th></th>\n",
              "      <th></th>\n",
              "      <th></th>\n",
              "      <th></th>\n",
              "      <th></th>\n",
              "      <th></th>\n",
              "      <th></th>\n",
              "      <th></th>\n",
              "      <th></th>\n",
              "      <th></th>\n",
              "      <th></th>\n",
              "      <th></th>\n",
              "      <th></th>\n",
              "      <th></th>\n",
              "      <th></th>\n",
              "    </tr>\n",
              "  </thead>\n",
              "  <tbody>\n",
              "    <tr>\n",
              "      <th>Fri</th>\n",
              "      <td>275</td>\n",
              "      <td>235</td>\n",
              "      <td>191</td>\n",
              "      <td>175</td>\n",
              "      <td>201</td>\n",
              "      <td>194</td>\n",
              "      <td>372</td>\n",
              "      <td>598</td>\n",
              "      <td>742</td>\n",
              "      <td>752</td>\n",
              "      <td>803</td>\n",
              "      <td>859</td>\n",
              "      <td>885</td>\n",
              "      <td>890</td>\n",
              "      <td>932</td>\n",
              "      <td>980</td>\n",
              "      <td>1039</td>\n",
              "      <td>980</td>\n",
              "      <td>820</td>\n",
              "      <td>696</td>\n",
              "      <td>667</td>\n",
              "      <td>559</td>\n",
              "      <td>514</td>\n",
              "      <td>474</td>\n",
              "    </tr>\n",
              "    <tr>\n",
              "      <th>Mon</th>\n",
              "      <td>282</td>\n",
              "      <td>221</td>\n",
              "      <td>201</td>\n",
              "      <td>194</td>\n",
              "      <td>204</td>\n",
              "      <td>267</td>\n",
              "      <td>397</td>\n",
              "      <td>653</td>\n",
              "      <td>819</td>\n",
              "      <td>786</td>\n",
              "      <td>793</td>\n",
              "      <td>822</td>\n",
              "      <td>893</td>\n",
              "      <td>842</td>\n",
              "      <td>869</td>\n",
              "      <td>913</td>\n",
              "      <td>989</td>\n",
              "      <td>997</td>\n",
              "      <td>885</td>\n",
              "      <td>746</td>\n",
              "      <td>613</td>\n",
              "      <td>497</td>\n",
              "      <td>472</td>\n",
              "      <td>325</td>\n",
              "    </tr>\n",
              "    <tr>\n",
              "      <th>Sat</th>\n",
              "      <td>375</td>\n",
              "      <td>301</td>\n",
              "      <td>263</td>\n",
              "      <td>260</td>\n",
              "      <td>224</td>\n",
              "      <td>231</td>\n",
              "      <td>257</td>\n",
              "      <td>391</td>\n",
              "      <td>459</td>\n",
              "      <td>640</td>\n",
              "      <td>697</td>\n",
              "      <td>769</td>\n",
              "      <td>801</td>\n",
              "      <td>831</td>\n",
              "      <td>789</td>\n",
              "      <td>796</td>\n",
              "      <td>848</td>\n",
              "      <td>757</td>\n",
              "      <td>778</td>\n",
              "      <td>696</td>\n",
              "      <td>628</td>\n",
              "      <td>572</td>\n",
              "      <td>506</td>\n",
              "      <td>467</td>\n",
              "    </tr>\n",
              "    <tr>\n",
              "      <th>Sun</th>\n",
              "      <td>383</td>\n",
              "      <td>306</td>\n",
              "      <td>286</td>\n",
              "      <td>268</td>\n",
              "      <td>242</td>\n",
              "      <td>240</td>\n",
              "      <td>300</td>\n",
              "      <td>402</td>\n",
              "      <td>483</td>\n",
              "      <td>620</td>\n",
              "      <td>643</td>\n",
              "      <td>693</td>\n",
              "      <td>771</td>\n",
              "      <td>679</td>\n",
              "      <td>684</td>\n",
              "      <td>691</td>\n",
              "      <td>663</td>\n",
              "      <td>714</td>\n",
              "      <td>670</td>\n",
              "      <td>655</td>\n",
              "      <td>537</td>\n",
              "      <td>461</td>\n",
              "      <td>415</td>\n",
              "      <td>330</td>\n",
              "    </tr>\n",
              "    <tr>\n",
              "      <th>Thu</th>\n",
              "      <td>278</td>\n",
              "      <td>202</td>\n",
              "      <td>233</td>\n",
              "      <td>159</td>\n",
              "      <td>182</td>\n",
              "      <td>203</td>\n",
              "      <td>362</td>\n",
              "      <td>570</td>\n",
              "      <td>777</td>\n",
              "      <td>828</td>\n",
              "      <td>837</td>\n",
              "      <td>773</td>\n",
              "      <td>889</td>\n",
              "      <td>936</td>\n",
              "      <td>876</td>\n",
              "      <td>969</td>\n",
              "      <td>935</td>\n",
              "      <td>1013</td>\n",
              "      <td>810</td>\n",
              "      <td>698</td>\n",
              "      <td>617</td>\n",
              "      <td>553</td>\n",
              "      <td>424</td>\n",
              "      <td>354</td>\n",
              "    </tr>\n",
              "    <tr>\n",
              "      <th>Tue</th>\n",
              "      <td>269</td>\n",
              "      <td>240</td>\n",
              "      <td>186</td>\n",
              "      <td>170</td>\n",
              "      <td>209</td>\n",
              "      <td>239</td>\n",
              "      <td>415</td>\n",
              "      <td>655</td>\n",
              "      <td>889</td>\n",
              "      <td>880</td>\n",
              "      <td>840</td>\n",
              "      <td>838</td>\n",
              "      <td>887</td>\n",
              "      <td>917</td>\n",
              "      <td>943</td>\n",
              "      <td>938</td>\n",
              "      <td>1026</td>\n",
              "      <td>1019</td>\n",
              "      <td>905</td>\n",
              "      <td>731</td>\n",
              "      <td>647</td>\n",
              "      <td>571</td>\n",
              "      <td>462</td>\n",
              "      <td>274</td>\n",
              "    </tr>\n",
              "    <tr>\n",
              "      <th>Wed</th>\n",
              "      <td>250</td>\n",
              "      <td>216</td>\n",
              "      <td>189</td>\n",
              "      <td>209</td>\n",
              "      <td>156</td>\n",
              "      <td>255</td>\n",
              "      <td>410</td>\n",
              "      <td>701</td>\n",
              "      <td>875</td>\n",
              "      <td>808</td>\n",
              "      <td>800</td>\n",
              "      <td>789</td>\n",
              "      <td>903</td>\n",
              "      <td>872</td>\n",
              "      <td>904</td>\n",
              "      <td>867</td>\n",
              "      <td>990</td>\n",
              "      <td>1037</td>\n",
              "      <td>894</td>\n",
              "      <td>686</td>\n",
              "      <td>668</td>\n",
              "      <td>575</td>\n",
              "      <td>490</td>\n",
              "      <td>335</td>\n",
              "    </tr>\n",
              "  </tbody>\n",
              "</table>\n",
              "</div>"
            ],
            "text/plain": [
              "Hour        0    1    2    3    4    5   ...   18   19   20   21   22   23\n",
              "DayOfWwek                                ...                              \n",
              "Fri        275  235  191  175  201  194  ...  820  696  667  559  514  474\n",
              "Mon        282  221  201  194  204  267  ...  885  746  613  497  472  325\n",
              "Sat        375  301  263  260  224  231  ...  778  696  628  572  506  467\n",
              "Sun        383  306  286  268  242  240  ...  670  655  537  461  415  330\n",
              "Thu        278  202  233  159  182  203  ...  810  698  617  553  424  354\n",
              "Tue        269  240  186  170  209  239  ...  905  731  647  571  462  274\n",
              "Wed        250  216  189  209  156  255  ...  894  686  668  575  490  335\n",
              "\n",
              "[7 rows x 24 columns]"
            ]
          },
          "metadata": {
            "tags": []
          },
          "execution_count": 65
        }
      ]
    },
    {
      "cell_type": "code",
      "metadata": {
        "id": "5gfPnWUULR9L",
        "colab_type": "code",
        "colab": {
          "base_uri": "https://localhost:8080/",
          "height": 405
        },
        "outputId": "d1363fbb-a77d-49ef-b8f0-97c21ea0d78b"
      },
      "source": [
        "import matplotlib.pyplot as plt\n",
        "plt.figure(figsize=(12,6))\n",
        "sns.heatmap(df1,cmap='viridis')"
      ],
      "execution_count": 66,
      "outputs": [
        {
          "output_type": "execute_result",
          "data": {
            "text/plain": [
              "<matplotlib.axes._subplots.AxesSubplot at 0x7f0c4aee0908>"
            ]
          },
          "metadata": {
            "tags": []
          },
          "execution_count": 66
        },
        {
          "output_type": "display_data",
          "data": {
            "image/png": "[encoded data removed]",
            "text/plain": [
              "<Figure size 864x432 with 2 Axes>"
            ]
          },
          "metadata": {
            "tags": [],
            "needs_background": "light"
          }
        }
      ]
    },
    {
      "cell_type": "markdown",
      "metadata": {
        "collapsed": false,
        "id": "7lXFdEcDaX9G",
        "colab_type": "text"
      },
      "source": [
        "heatmaps Month and Hour"
      ]
    },
    {
      "cell_type": "code",
      "metadata": {
        "id": "JuWxSfucMdiJ",
        "colab_type": "code",
        "colab": {
          "base_uri": "https://localhost:8080/",
          "height": 746
        },
        "outputId": "082528be-0d0d-44b6-d628-dda95ded9454"
      },
      "source": [
        "import seaborn as sns\n",
        "sns.clustermap(df1)"
      ],
      "execution_count": 67,
      "outputs": [
        {
          "output_type": "execute_result",
          "data": {
            "text/plain": [
              "<seaborn.matrix.ClusterGrid at 0x7f0c4aeea898>"
            ]
          },
          "metadata": {
            "tags": []
          },
          "execution_count": 67
        },
        {
          "output_type": "display_data",
          "data": {
            "image/png": "[encoded data removed]",
            "text/plain": [
              "<Figure size 720x720 with 4 Axes>"
            ]
          },
          "metadata": {
            "tags": [],
            "needs_background": "light"
          }
        }
      ]
    },
    {
      "cell_type": "code",
      "metadata": {
        "id": "PMteVHT5VpvR",
        "colab_type": "code",
        "colab": {
          "base_uri": "https://localhost:8080/",
          "height": 204
        },
        "outputId": "2c0c7594-b231-47b4-c3eb-67110b70a5ed"
      },
      "source": [
        "df1.head"
      ],
      "execution_count": 68,
      "outputs": [
        {
          "output_type": "execute_result",
          "data": {
            "text/plain": [
              "<bound method NDFrame.head of Hour        0    1    2    3    4    5   ...   18   19   20   21   22   23\n",
              "DayOfWwek                                ...                              \n",
              "Fri        275  235  191  175  201  194  ...  820  696  667  559  514  474\n",
              "Mon        282  221  201  194  204  267  ...  885  746  613  497  472  325\n",
              "Sat        375  301  263  260  224  231  ...  778  696  628  572  506  467\n",
              "Sun        383  306  286  268  242  240  ...  670  655  537  461  415  330\n",
              "Thu        278  202  233  159  182  203  ...  810  698  617  553  424  354\n",
              "Tue        269  240  186  170  209  239  ...  905  731  647  571  462  274\n",
              "Wed        250  216  189  209  156  255  ...  894  686  668  575  490  335\n",
              "\n",
              "[7 rows x 24 columns]>"
            ]
          },
          "metadata": {
            "tags": []
          },
          "execution_count": 68
        }
      ]
    },
    {
      "cell_type": "code",
      "metadata": {
        "id": "ZmyuGUTfV3Rg",
        "colab_type": "code",
        "colab": {
          "base_uri": "https://localhost:8080/",
          "height": 289
        },
        "outputId": "d389f877-6548-4f8a-8873-e015c3f4b0e4"
      },
      "source": [
        "df.head()"
      ],
      "execution_count": 69,
      "outputs": [
        {
          "output_type": "execute_result",
          "data": {
            "text/html": [
              "<div>\n",
              "<style scoped>\n",
              "    .dataframe tbody tr th:only-of-type {\n",
              "        vertical-align: middle;\n",
              "    }\n",
              "\n",
              "    .dataframe tbody tr th {\n",
              "        vertical-align: top;\n",
              "    }\n",
              "\n",
              "    .dataframe thead th {\n",
              "        text-align: right;\n",
              "    }\n",
              "</style>\n",
              "<table border=\"1\" class=\"dataframe\">\n",
              "  <thead>\n",
              "    <tr style=\"text-align: right;\">\n",
              "      <th></th>\n",
              "      <th>lat</th>\n",
              "      <th>lng</th>\n",
              "      <th>desc</th>\n",
              "      <th>zip</th>\n",
              "      <th>title</th>\n",
              "      <th>timeStamp</th>\n",
              "      <th>twp</th>\n",
              "      <th>addr</th>\n",
              "      <th>e</th>\n",
              "      <th>Reason</th>\n",
              "      <th>Hour</th>\n",
              "      <th>DayOfWwek</th>\n",
              "      <th>Month</th>\n",
              "      <th>Date</th>\n",
              "    </tr>\n",
              "  </thead>\n",
              "  <tbody>\n",
              "    <tr>\n",
              "      <th>0</th>\n",
              "      <td>40.297876</td>\n",
              "      <td>-75.581294</td>\n",
              "      <td>REINDEER CT &amp; DEAD END;  NEW HANOVER; Station ...</td>\n",
              "      <td>19525.0</td>\n",
              "      <td>EMS: BACK PAINS/INJURY</td>\n",
              "      <td>2015-12-10 17:40:00</td>\n",
              "      <td>NEW HANOVER</td>\n",
              "      <td>REINDEER CT &amp; DEAD END</td>\n",
              "      <td>1</td>\n",
              "      <td>EMS</td>\n",
              "      <td>17</td>\n",
              "      <td>Thu</td>\n",
              "      <td>12</td>\n",
              "      <td>2015-12-10</td>\n",
              "    </tr>\n",
              "    <tr>\n",
              "      <th>1</th>\n",
              "      <td>40.258061</td>\n",
              "      <td>-75.264680</td>\n",
              "      <td>BRIAR PATH &amp; WHITEMARSH LN;  HATFIELD TOWNSHIP...</td>\n",
              "      <td>19446.0</td>\n",
              "      <td>EMS: DIABETIC EMERGENCY</td>\n",
              "      <td>2015-12-10 17:40:00</td>\n",
              "      <td>HATFIELD TOWNSHIP</td>\n",
              "      <td>BRIAR PATH &amp; WHITEMARSH LN</td>\n",
              "      <td>1</td>\n",
              "      <td>EMS</td>\n",
              "      <td>17</td>\n",
              "      <td>Thu</td>\n",
              "      <td>12</td>\n",
              "      <td>2015-12-10</td>\n",
              "    </tr>\n",
              "    <tr>\n",
              "      <th>2</th>\n",
              "      <td>40.121182</td>\n",
              "      <td>-75.351975</td>\n",
              "      <td>HAWS AVE; NORRISTOWN; 2015-12-10 @ 14:39:21-St...</td>\n",
              "      <td>19401.0</td>\n",
              "      <td>Fire: GAS-ODOR/LEAK</td>\n",
              "      <td>2015-12-10 17:40:00</td>\n",
              "      <td>NORRISTOWN</td>\n",
              "      <td>HAWS AVE</td>\n",
              "      <td>1</td>\n",
              "      <td>Fire</td>\n",
              "      <td>17</td>\n",
              "      <td>Thu</td>\n",
              "      <td>12</td>\n",
              "      <td>2015-12-10</td>\n",
              "    </tr>\n",
              "    <tr>\n",
              "      <th>3</th>\n",
              "      <td>40.116153</td>\n",
              "      <td>-75.343513</td>\n",
              "      <td>AIRY ST &amp; SWEDE ST;  NORRISTOWN; Station 308A;...</td>\n",
              "      <td>19401.0</td>\n",
              "      <td>EMS: CARDIAC EMERGENCY</td>\n",
              "      <td>2015-12-10 17:40:01</td>\n",
              "      <td>NORRISTOWN</td>\n",
              "      <td>AIRY ST &amp; SWEDE ST</td>\n",
              "      <td>1</td>\n",
              "      <td>EMS</td>\n",
              "      <td>17</td>\n",
              "      <td>Thu</td>\n",
              "      <td>12</td>\n",
              "      <td>2015-12-10</td>\n",
              "    </tr>\n",
              "    <tr>\n",
              "      <th>4</th>\n",
              "      <td>40.251492</td>\n",
              "      <td>-75.603350</td>\n",
              "      <td>CHERRYWOOD CT &amp; DEAD END;  LOWER POTTSGROVE; S...</td>\n",
              "      <td>NaN</td>\n",
              "      <td>EMS: DIZZINESS</td>\n",
              "      <td>2015-12-10 17:40:01</td>\n",
              "      <td>LOWER POTTSGROVE</td>\n",
              "      <td>CHERRYWOOD CT &amp; DEAD END</td>\n",
              "      <td>1</td>\n",
              "      <td>EMS</td>\n",
              "      <td>17</td>\n",
              "      <td>Thu</td>\n",
              "      <td>12</td>\n",
              "      <td>2015-12-10</td>\n",
              "    </tr>\n",
              "  </tbody>\n",
              "</table>\n",
              "</div>"
            ],
            "text/plain": [
              "         lat        lng  ... Month        Date\n",
              "0  40.297876 -75.581294  ...    12  2015-12-10\n",
              "1  40.258061 -75.264680  ...    12  2015-12-10\n",
              "2  40.121182 -75.351975  ...    12  2015-12-10\n",
              "3  40.116153 -75.343513  ...    12  2015-12-10\n",
              "4  40.251492 -75.603350  ...    12  2015-12-10\n",
              "\n",
              "[5 rows x 14 columns]"
            ]
          },
          "metadata": {
            "tags": []
          },
          "execution_count": 69
        }
      ]
    },
    {
      "cell_type": "code",
      "metadata": {
        "id": "5D_hQU15aX9N",
        "colab_type": "code",
        "colab": {
          "base_uri": "https://localhost:8080/",
          "height": 359
        },
        "outputId": "1f9a3f1a-3ba0-4a52-a7df-08930f286b09"
      },
      "source": [
        "df2 = df.groupby(by=['Month','Hour']).count()['twp'].unstack()\n",
        "df2"
      ],
      "execution_count": 82,
      "outputs": [
        {
          "output_type": "execute_result",
          "data": {
            "text/html": [
              "<div>\n",
              "<style scoped>\n",
              "    .dataframe tbody tr th:only-of-type {\n",
              "        vertical-align: middle;\n",
              "    }\n",
              "\n",
              "    .dataframe tbody tr th {\n",
              "        vertical-align: top;\n",
              "    }\n",
              "\n",
              "    .dataframe thead th {\n",
              "        text-align: right;\n",
              "    }\n",
              "</style>\n",
              "<table border=\"1\" class=\"dataframe\">\n",
              "  <thead>\n",
              "    <tr style=\"text-align: right;\">\n",
              "      <th>Hour</th>\n",
              "      <th>0</th>\n",
              "      <th>1</th>\n",
              "      <th>2</th>\n",
              "      <th>3</th>\n",
              "      <th>4</th>\n",
              "      <th>5</th>\n",
              "      <th>6</th>\n",
              "      <th>7</th>\n",
              "      <th>8</th>\n",
              "      <th>9</th>\n",
              "      <th>10</th>\n",
              "      <th>11</th>\n",
              "      <th>12</th>\n",
              "      <th>13</th>\n",
              "      <th>14</th>\n",
              "      <th>15</th>\n",
              "      <th>16</th>\n",
              "      <th>17</th>\n",
              "      <th>18</th>\n",
              "      <th>19</th>\n",
              "      <th>20</th>\n",
              "      <th>21</th>\n",
              "      <th>22</th>\n",
              "      <th>23</th>\n",
              "    </tr>\n",
              "    <tr>\n",
              "      <th>Month</th>\n",
              "      <th></th>\n",
              "      <th></th>\n",
              "      <th></th>\n",
              "      <th></th>\n",
              "      <th></th>\n",
              "      <th></th>\n",
              "      <th></th>\n",
              "      <th></th>\n",
              "      <th></th>\n",
              "      <th></th>\n",
              "      <th></th>\n",
              "      <th></th>\n",
              "      <th></th>\n",
              "      <th></th>\n",
              "      <th></th>\n",
              "      <th></th>\n",
              "      <th></th>\n",
              "      <th></th>\n",
              "      <th></th>\n",
              "      <th></th>\n",
              "      <th></th>\n",
              "      <th></th>\n",
              "      <th></th>\n",
              "      <th></th>\n",
              "    </tr>\n",
              "  </thead>\n",
              "  <tbody>\n",
              "    <tr>\n",
              "      <th>1</th>\n",
              "      <td>294</td>\n",
              "      <td>218</td>\n",
              "      <td>225</td>\n",
              "      <td>205</td>\n",
              "      <td>205</td>\n",
              "      <td>214</td>\n",
              "      <td>386</td>\n",
              "      <td>551</td>\n",
              "      <td>755</td>\n",
              "      <td>752</td>\n",
              "      <td>660</td>\n",
              "      <td>775</td>\n",
              "      <td>788</td>\n",
              "      <td>764</td>\n",
              "      <td>775</td>\n",
              "      <td>691</td>\n",
              "      <td>725</td>\n",
              "      <td>871</td>\n",
              "      <td>798</td>\n",
              "      <td>687</td>\n",
              "      <td>592</td>\n",
              "      <td>507</td>\n",
              "      <td>421</td>\n",
              "      <td>344</td>\n",
              "    </tr>\n",
              "    <tr>\n",
              "      <th>2</th>\n",
              "      <td>267</td>\n",
              "      <td>194</td>\n",
              "      <td>161</td>\n",
              "      <td>149</td>\n",
              "      <td>161</td>\n",
              "      <td>213</td>\n",
              "      <td>325</td>\n",
              "      <td>550</td>\n",
              "      <td>597</td>\n",
              "      <td>603</td>\n",
              "      <td>620</td>\n",
              "      <td>582</td>\n",
              "      <td>634</td>\n",
              "      <td>698</td>\n",
              "      <td>647</td>\n",
              "      <td>704</td>\n",
              "      <td>692</td>\n",
              "      <td>674</td>\n",
              "      <td>693</td>\n",
              "      <td>578</td>\n",
              "      <td>518</td>\n",
              "      <td>453</td>\n",
              "      <td>425</td>\n",
              "      <td>327</td>\n",
              "    </tr>\n",
              "    <tr>\n",
              "      <th>3</th>\n",
              "      <td>214</td>\n",
              "      <td>180</td>\n",
              "      <td>194</td>\n",
              "      <td>149</td>\n",
              "      <td>152</td>\n",
              "      <td>180</td>\n",
              "      <td>291</td>\n",
              "      <td>487</td>\n",
              "      <td>556</td>\n",
              "      <td>614</td>\n",
              "      <td>649</td>\n",
              "      <td>612</td>\n",
              "      <td>647</td>\n",
              "      <td>662</td>\n",
              "      <td>671</td>\n",
              "      <td>707</td>\n",
              "      <td>782</td>\n",
              "      <td>676</td>\n",
              "      <td>599</td>\n",
              "      <td>546</td>\n",
              "      <td>492</td>\n",
              "      <td>401</td>\n",
              "      <td>358</td>\n",
              "      <td>273</td>\n",
              "    </tr>\n",
              "    <tr>\n",
              "      <th>4</th>\n",
              "      <td>241</td>\n",
              "      <td>204</td>\n",
              "      <td>170</td>\n",
              "      <td>161</td>\n",
              "      <td>179</td>\n",
              "      <td>178</td>\n",
              "      <td>316</td>\n",
              "      <td>482</td>\n",
              "      <td>613</td>\n",
              "      <td>598</td>\n",
              "      <td>607</td>\n",
              "      <td>609</td>\n",
              "      <td>725</td>\n",
              "      <td>694</td>\n",
              "      <td>705</td>\n",
              "      <td>728</td>\n",
              "      <td>766</td>\n",
              "      <td>728</td>\n",
              "      <td>646</td>\n",
              "      <td>533</td>\n",
              "      <td>472</td>\n",
              "      <td>377</td>\n",
              "      <td>309</td>\n",
              "      <td>282</td>\n",
              "    </tr>\n",
              "    <tr>\n",
              "      <th>5</th>\n",
              "      <td>255</td>\n",
              "      <td>195</td>\n",
              "      <td>157</td>\n",
              "      <td>173</td>\n",
              "      <td>160</td>\n",
              "      <td>196</td>\n",
              "      <td>254</td>\n",
              "      <td>438</td>\n",
              "      <td>605</td>\n",
              "      <td>643</td>\n",
              "      <td>584</td>\n",
              "      <td>709</td>\n",
              "      <td>721</td>\n",
              "      <td>672</td>\n",
              "      <td>640</td>\n",
              "      <td>746</td>\n",
              "      <td>728</td>\n",
              "      <td>787</td>\n",
              "      <td>608</td>\n",
              "      <td>510</td>\n",
              "      <td>489</td>\n",
              "      <td>462</td>\n",
              "      <td>405</td>\n",
              "      <td>283</td>\n",
              "    </tr>\n",
              "    <tr>\n",
              "      <th>6</th>\n",
              "      <td>228</td>\n",
              "      <td>190</td>\n",
              "      <td>168</td>\n",
              "      <td>157</td>\n",
              "      <td>148</td>\n",
              "      <td>172</td>\n",
              "      <td>289</td>\n",
              "      <td>436</td>\n",
              "      <td>565</td>\n",
              "      <td>629</td>\n",
              "      <td>637</td>\n",
              "      <td>667</td>\n",
              "      <td>776</td>\n",
              "      <td>726</td>\n",
              "      <td>726</td>\n",
              "      <td>767</td>\n",
              "      <td>816</td>\n",
              "      <td>768</td>\n",
              "      <td>693</td>\n",
              "      <td>563</td>\n",
              "      <td>496</td>\n",
              "      <td>455</td>\n",
              "      <td>399</td>\n",
              "      <td>306</td>\n",
              "    </tr>\n",
              "    <tr>\n",
              "      <th>7</th>\n",
              "      <td>241</td>\n",
              "      <td>224</td>\n",
              "      <td>181</td>\n",
              "      <td>188</td>\n",
              "      <td>177</td>\n",
              "      <td>196</td>\n",
              "      <td>278</td>\n",
              "      <td>431</td>\n",
              "      <td>545</td>\n",
              "      <td>635</td>\n",
              "      <td>645</td>\n",
              "      <td>636</td>\n",
              "      <td>738</td>\n",
              "      <td>729</td>\n",
              "      <td>790</td>\n",
              "      <td>744</td>\n",
              "      <td>815</td>\n",
              "      <td>825</td>\n",
              "      <td>675</td>\n",
              "      <td>652</td>\n",
              "      <td>583</td>\n",
              "      <td>480</td>\n",
              "      <td>433</td>\n",
              "      <td>292</td>\n",
              "    </tr>\n",
              "    <tr>\n",
              "      <th>8</th>\n",
              "      <td>219</td>\n",
              "      <td>182</td>\n",
              "      <td>166</td>\n",
              "      <td>135</td>\n",
              "      <td>131</td>\n",
              "      <td>144</td>\n",
              "      <td>188</td>\n",
              "      <td>326</td>\n",
              "      <td>466</td>\n",
              "      <td>464</td>\n",
              "      <td>578</td>\n",
              "      <td>519</td>\n",
              "      <td>520</td>\n",
              "      <td>548</td>\n",
              "      <td>552</td>\n",
              "      <td>612</td>\n",
              "      <td>656</td>\n",
              "      <td>563</td>\n",
              "      <td>476</td>\n",
              "      <td>419</td>\n",
              "      <td>372</td>\n",
              "      <td>345</td>\n",
              "      <td>245</td>\n",
              "      <td>247</td>\n",
              "    </tr>\n",
              "    <tr>\n",
              "      <th>12</th>\n",
              "      <td>150</td>\n",
              "      <td>131</td>\n",
              "      <td>126</td>\n",
              "      <td>116</td>\n",
              "      <td>105</td>\n",
              "      <td>135</td>\n",
              "      <td>184</td>\n",
              "      <td>268</td>\n",
              "      <td>342</td>\n",
              "      <td>373</td>\n",
              "      <td>433</td>\n",
              "      <td>433</td>\n",
              "      <td>476</td>\n",
              "      <td>473</td>\n",
              "      <td>488</td>\n",
              "      <td>455</td>\n",
              "      <td>508</td>\n",
              "      <td>621</td>\n",
              "      <td>573</td>\n",
              "      <td>419</td>\n",
              "      <td>361</td>\n",
              "      <td>303</td>\n",
              "      <td>286</td>\n",
              "      <td>204</td>\n",
              "    </tr>\n",
              "  </tbody>\n",
              "</table>\n",
              "</div>"
            ],
            "text/plain": [
              "Hour    0    1    2    3    4    5    6   ...   17   18   19   20   21   22   23\n",
              "Month                                     ...                                   \n",
              "1      294  218  225  205  205  214  386  ...  871  798  687  592  507  421  344\n",
              "2      267  194  161  149  161  213  325  ...  674  693  578  518  453  425  327\n",
              "3      214  180  194  149  152  180  291  ...  676  599  546  492  401  358  273\n",
              "4      241  204  170  161  179  178  316  ...  728  646  533  472  377  309  282\n",
              "5      255  195  157  173  160  196  254  ...  787  608  510  489  462  405  283\n",
              "6      228  190  168  157  148  172  289  ...  768  693  563  496  455  399  306\n",
              "7      241  224  181  188  177  196  278  ...  825  675  652  583  480  433  292\n",
              "8      219  182  166  135  131  144  188  ...  563  476  419  372  345  245  247\n",
              "12     150  131  126  116  105  135  184  ...  621  573  419  361  303  286  204\n",
              "\n",
              "[9 rows x 24 columns]"
            ]
          },
          "metadata": {
            "tags": []
          },
          "execution_count": 82
        }
      ]
    },
    {
      "cell_type": "code",
      "metadata": {
        "id": "HzgZQsipaX9R",
        "colab_type": "code",
        "colab": {
          "base_uri": "https://localhost:8080/",
          "height": 405
        },
        "outputId": "23e7a7c3-f4eb-4411-d503-42dbf2b7cef7"
      },
      "source": [
        "plt.figure(figsize = (12,6))\n",
        "sns.heatmap(df2)"
      ],
      "execution_count": 87,
      "outputs": [
        {
          "output_type": "execute_result",
          "data": {
            "text/plain": [
              "<matplotlib.axes._subplots.AxesSubplot at 0x7f0c4af83978>"
            ]
          },
          "metadata": {
            "tags": []
          },
          "execution_count": 87
        },
        {
          "output_type": "display_data",
          "data": {
            "image/png": "[encoded data removed]",
            "text/plain": [
              "<Figure size 864x432 with 2 Axes>"
            ]
          },
          "metadata": {
            "tags": [],
            "needs_background": "light"
          }
        }
      ]
    },
    {
      "cell_type": "code",
      "metadata": {
        "id": "r04HXh3WaX9U",
        "colab_type": "code",
        "colab": {
          "base_uri": "https://localhost:8080/",
          "height": 746
        },
        "outputId": "d90c9280-db96-4094-f74e-be9c40cdfda6"
      },
      "source": [
        "sns.clustermap(df2)"
      ],
      "execution_count": 88,
      "outputs": [
        {
          "output_type": "execute_result",
          "data": {
            "text/plain": [
              "<seaborn.matrix.ClusterGrid at 0x7f0c495eca90>"
            ]
          },
          "metadata": {
            "tags": []
          },
          "execution_count": 88
        },
        {
          "output_type": "display_data",
          "data": {
            "image/png": "[encoded data removed]",
            "text/plain": [
              "<Figure size 720x720 with 4 Axes>"
            ]
          },
          "metadata": {
            "tags": [],
            "needs_background": "light"
          }
        }
      ]
    }
  ]
}